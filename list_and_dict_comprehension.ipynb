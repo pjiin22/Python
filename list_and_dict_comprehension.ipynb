{
 "cells": [
  {
   "cell_type": "markdown",
   "metadata": {
    "id": "V93ICRY_wt39"
   },
   "source": [
    "## **[1] List Comprehenshion이란?**\n",
    "- 리스트 안에 `for`문을 포함하여 한 줄로 편하게 코드를 작성할 수 있게 하는 문법입니다.\n",
    "\n",
    "\n",
    "    [표현식 for 항목 in 반복가능객체 if 조건문]"
   ]
  },
  {
   "cell_type": "code",
   "execution_count": 1,
   "metadata": {
    "id": "KsuXkfQSv1f7"
   },
   "outputs": [
    {
     "name": "stdout",
     "output_type": "stream",
     "text": [
      "[1, 2, 3, 4]\n"
     ]
    }
   ],
   "source": [
    "ls = []\n",
    "for i in range(1, 5):\n",
    "    ls.append(i)\n",
    "print(ls)"
   ]
  },
  {
   "cell_type": "code",
   "execution_count": 3,
   "metadata": {
    "id": "W6sj1Hr0xPXG"
   },
   "outputs": [
    {
     "name": "stdout",
     "output_type": "stream",
     "text": [
      "[1, 2, 3, 4]\n"
     ]
    }
   ],
   "source": [
    "ls = [i for i in range(1,5)]\n",
    "print(ls)"
   ]
  },
  {
   "cell_type": "code",
   "execution_count": 4,
   "metadata": {
    "id": "zN9t4s3fxg8o"
   },
   "outputs": [
    {
     "name": "stdout",
     "output_type": "stream",
     "text": [
      "[2, 4]\n"
     ]
    }
   ],
   "source": [
    "ls = []\n",
    "for i in range(1, 5):\n",
    "    if i % 2 == 0:\n",
    "        ls.append(i)\n",
    "print(ls)"
   ]
  },
  {
   "cell_type": "code",
   "execution_count": 7,
   "metadata": {
    "id": "ZUVQtf1QxljO"
   },
   "outputs": [
    {
     "name": "stdout",
     "output_type": "stream",
     "text": [
      "[2, 4]\n"
     ]
    }
   ],
   "source": [
    "ls = [i for i in range(1,5) if i % 2 == 0]\n",
    "print(ls)"
   ]
  },
  {
   "cell_type": "code",
   "execution_count": 9,
   "metadata": {
    "id": "BeKjnM4Zxq5b"
   },
   "outputs": [
    {
     "name": "stdout",
     "output_type": "stream",
     "text": [
      "[8, 16]\n"
     ]
    }
   ],
   "source": [
    "ls = []\n",
    "for i in range(1, 5):\n",
    "    if i % 2 == 0:\n",
    "        ls.append(i * 4)\n",
    "print(ls)"
   ]
  },
  {
   "cell_type": "code",
   "execution_count": 11,
   "metadata": {
    "id": "LoyInJ1axtXO"
   },
   "outputs": [
    {
     "name": "stdout",
     "output_type": "stream",
     "text": [
      "[8, 16]\n"
     ]
    }
   ],
   "source": [
    "ls = [i * 4 for i in range(1,5) if i % 2 == 0]\n",
    "print(ls)"
   ]
  },
  {
   "cell_type": "markdown",
   "metadata": {
    "id": "7JqpPABHyF6Y"
   },
   "source": [
    "- `for`문을 여러 개 사용하는 것도 가능하다.\n",
    "\n",
    "\n",
    "    [표현식 for 항목1 in 반복가능객체1 if 조건문1\n",
    "        for 항목2 in 반복가능객체2 if 조건문2\n",
    "        ...\n",
    "    ]"
   ]
  },
  {
   "cell_type": "code",
   "execution_count": 14,
   "metadata": {
    "id": "z1_PftDQxvji"
   },
   "outputs": [
    {
     "name": "stdout",
     "output_type": "stream",
     "text": [
      "[2, 4, 6, 8, 10, 12, 14, 16, 18, 3, 6, 9, 12, 15, 18, 21, 24, 27, 4, 8, 12, 16, 20, 24, 28, 32, 36, 5, 10, 15, 20, 25, 30, 35, 40, 45, 6, 12, 18, 24, 30, 36, 42, 48, 54, 7, 14, 21, 28, 35, 42, 49, 56, 63, 8, 16, 24, 32, 40, 48, 56, 64, 72, 9, 18, 27, 36, 45, 54, 63, 72, 81]\n"
     ]
    }
   ],
   "source": [
    "gugudan = []\n",
    "for i in range(2, 10):\n",
    "    for j in range(1, 10):\n",
    "        gugudan.append(i*j)\n",
    "print(gugudan)"
   ]
  },
  {
   "cell_type": "code",
   "execution_count": 16,
   "metadata": {
    "id": "85IlObc_yctT"
   },
   "outputs": [
    {
     "name": "stdout",
     "output_type": "stream",
     "text": [
      "[2, 4, 6, 8, 10, 12, 14, 16, 18, 3, 6, 9, 12, 15, 18, 21, 24, 27, 4, 8, 12, 16, 20, 24, 28, 32, 36, 5, 10, 15, 20, 25, 30, 35, 40, 45, 6, 12, 18, 24, 30, 36, 42, 48, 54, 7, 14, 21, 28, 35, 42, 49, 56, 63, 8, 16, 24, 32, 40, 48, 56, 64, 72, 9, 18, 27, 36, 45, 54, 63, 72, 81]\n"
     ]
    }
   ],
   "source": [
    "gugudan = [i*j for i in range(2,10) for j in range(1,10)]\n",
    "print(gugudan)"
   ]
  },
  {
   "cell_type": "markdown",
   "metadata": {
    "id": "dnUxkTCuzhiq"
   },
   "source": [
    "## **[2] Dict comprehension이란?**\n",
    "- `list comprehension`과 마찬가지로 딕셔너리도 for문을 간편하게 이용할 수 있다."
   ]
  },
  {
   "cell_type": "code",
   "execution_count": 19,
   "metadata": {
    "id": "zTtcb3GeyhVq"
   },
   "outputs": [
    {
     "name": "stdout",
     "output_type": "stream",
     "text": [
      "{'Merry': 1, 'John': 2, 'Chris': 3}\n"
     ]
    }
   ],
   "source": [
    "names = ['Merry','John','Chris']\n",
    "num = [1,2,3]\n",
    "\n",
    "dic = {names[i]:num[i] for i in range(len(names))}\n",
    "print(dic)"
   ]
  },
  {
   "cell_type": "code",
   "execution_count": 21,
   "metadata": {
    "id": "Vfw88fPXq2kS"
   },
   "outputs": [
    {
     "data": {
      "text/plain": [
       "{'Merry': 1, 'John': 2, 'Chris': 3}"
      ]
     },
     "execution_count": 21,
     "metadata": {},
     "output_type": "execute_result"
    }
   ],
   "source": [
    "dic1 = {}\n",
    "for i in range(len(names)):\n",
    "    dic1[names[i]] = num[i]\n",
    "\n",
    "dic1"
   ]
  },
  {
   "cell_type": "code",
   "execution_count": 23,
   "metadata": {
    "id": "Ej2SxFBD1eLg"
   },
   "outputs": [
    {
     "name": "stdout",
     "output_type": "stream",
     "text": [
      "{'Merry': 1, 'John': 2, 'Chris': 3}\n"
     ]
    }
   ],
   "source": [
    "names = ['Merry','John','Chris']\n",
    "num = [1,2,3]\n",
    "\n",
    "dic = {k:v for k, v in zip(names, num)}\n",
    "print(dic)"
   ]
  },
  {
   "cell_type": "code",
   "execution_count": 25,
   "metadata": {
    "id": "URWk8LFbrMJJ"
   },
   "outputs": [
    {
     "data": {
      "text/plain": [
       "{'Merry': 1, 'John': 2, 'Chris': 3}"
      ]
     },
     "execution_count": 25,
     "metadata": {},
     "output_type": "execute_result"
    }
   ],
   "source": [
    "dic1 = {}\n",
    "for k, v in list(zip(names, num)):\n",
    "    dic1[k] = v\n",
    "\n",
    "dic1"
   ]
  },
  {
   "cell_type": "code",
   "execution_count": 27,
   "metadata": {
    "id": "lryikhnr2RlL"
   },
   "outputs": [
    {
     "name": "stdout",
     "output_type": "stream",
     "text": [
      "{'Merry': 5, 'John': 10, 'Chris': 15}\n"
     ]
    }
   ],
   "source": [
    "names = ['Merry','John','Chris']\n",
    "num = [1,2,3]\n",
    "\n",
    "dic = {k:v*5 for k, v in zip(names, num)}\n",
    "print(dic)"
   ]
  },
  {
   "cell_type": "code",
   "execution_count": 29,
   "metadata": {
    "id": "SjDjKpRNrh4k"
   },
   "outputs": [
    {
     "data": {
      "text/plain": [
       "{'Merry': 5, 'John': 10, 'Chris': 15}"
      ]
     },
     "execution_count": 29,
     "metadata": {},
     "output_type": "execute_result"
    }
   ],
   "source": [
    "dic1 = {}\n",
    "for k, v in list(zip(names, num)):\n",
    "    dic1[k] = v*5\n",
    "\n",
    "dic1"
   ]
  },
  {
   "cell_type": "code",
   "execution_count": 31,
   "metadata": {
    "id": "rqHXTBmF2m8Z"
   },
   "outputs": [
    {
     "name": "stdout",
     "output_type": "stream",
     "text": [
      "{'Merry': 5, 'Chris': 15}\n"
     ]
    }
   ],
   "source": [
    "names = ['Merry','John','Chris']\n",
    "num = [1,2,3]\n",
    "\n",
    "dic = {k:v*5 for k, v in zip(names, num) if v % 2 == 1}\n",
    "print(dic)"
   ]
  },
  {
   "cell_type": "code",
   "execution_count": 33,
   "metadata": {
    "id": "i6V0JNR6rp9D"
   },
   "outputs": [
    {
     "data": {
      "text/plain": [
       "{'Merry': 5, 'Chris': 15}"
      ]
     },
     "execution_count": 33,
     "metadata": {},
     "output_type": "execute_result"
    }
   ],
   "source": [
    "dic1 = {}\n",
    "for k, v in list(zip(names, num)):\n",
    "    if v % 2 == 1:\n",
    "        dic1[k] = v*5\n",
    "\n",
    "dic1"
   ]
  },
  {
   "cell_type": "code",
   "execution_count": null,
   "metadata": {
    "id": "2aINPpxsL3Lr"
   },
   "outputs": [],
   "source": []
  }
 ],
 "metadata": {
  "colab": {
   "provenance": [],
   "toc_visible": true
  },
  "kernelspec": {
   "display_name": "Python 3 (ipykernel)",
   "language": "python",
   "name": "python3"
  },
  "language_info": {
   "codemirror_mode": {
    "name": "ipython",
    "version": 3
   },
   "file_extension": ".py",
   "mimetype": "text/x-python",
   "name": "python",
   "nbconvert_exporter": "python",
   "pygments_lexer": "ipython3",
   "version": "3.12.4"
  }
 },
 "nbformat": 4,
 "nbformat_minor": 4
}
