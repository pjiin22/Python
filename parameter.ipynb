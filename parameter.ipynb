{
 "cells": [
  {
   "cell_type": "code",
   "execution_count": 1,
   "metadata": {
    "id": "7MoVOBIaY5A9"
   },
   "outputs": [],
   "source": [
    "a = 100"
   ]
  },
  {
   "cell_type": "markdown",
   "metadata": {
    "id": "hglQqtYnOtRb"
   },
   "source": [
    "# **변수**\n",
    "\n",
    "\n",
    "---\n",
    "\n"
   ]
  },
  {
   "cell_type": "markdown",
   "metadata": {
    "id": "Ksh0jCpNM5OJ"
   },
   "source": [
    "## **[1] 변수란?**\n",
    "- 데이터를 저장하고 추후에 사용할 수 있게 해주는 저장 공간\n",
    "- 이름과 값으로 구성\n",
    "- 이름은 변수를 참조할 때 사용되고 값은 실제 데이터를 의미\n",
    "\n",
    "\n",
    "\n"
   ]
  },
  {
   "cell_type": "markdown",
   "metadata": {
    "id": "fjBAWCbjT9h1"
   },
   "source": [
    "### 변수는 왜 필요할까요?"
   ]
  },
  {
   "cell_type": "code",
   "execution_count": 2,
   "metadata": {
    "id": "dzZ5J3RbSBFf"
   },
   "outputs": [
    {
     "data": {
      "text/plain": [
       "110"
      ]
     },
     "execution_count": 2,
     "metadata": {},
     "output_type": "execute_result"
    }
   ],
   "source": [
    "100 + 10"
   ]
  },
  {
   "cell_type": "code",
   "execution_count": 3,
   "metadata": {
    "id": "ASWBqC3QUVxG"
   },
   "outputs": [
    {
     "data": {
      "text/plain": [
       "1000"
      ]
     },
     "execution_count": 3,
     "metadata": {},
     "output_type": "execute_result"
    }
   ],
   "source": [
    "100 * 10"
   ]
  },
  {
   "cell_type": "code",
   "execution_count": 4,
   "metadata": {
    "id": "hioS1tCGUWSA"
   },
   "outputs": [
    {
     "data": {
      "text/plain": [
       "10.0"
      ]
     },
     "execution_count": 4,
     "metadata": {},
     "output_type": "execute_result"
    }
   ],
   "source": [
    "100 / 10"
   ]
  },
  {
   "cell_type": "markdown",
   "metadata": {
    "id": "Lh3sRAMIUnKs"
   },
   "source": [
    "- 같은 숫자들로 여러 연산을 하고 싶을 때, 숫자들을 변수에 저장하여 재사용한다면 편리합니다!\n",
    "\n",
    "### 변수를 만드는 방법\n",
    "- **`변수 이름 = 저장할 값`**\n",
    "- 파이썬에서 '='는 변수를 저장할 때 사용하고, 등호는 '=='를 이용합니다."
   ]
  },
  {
   "cell_type": "code",
   "execution_count": 5,
   "metadata": {
    "id": "TbvpQWBiU1vq"
   },
   "outputs": [
    {
     "name": "stdout",
     "output_type": "stream",
     "text": [
      "110\n",
      "90\n",
      "1000\n",
      "10.0\n"
     ]
    }
   ],
   "source": [
    "a = 100\n",
    "b = 10\n",
    "print(a + b)\n",
    "print(a - b)\n",
    "print(a * b)\n",
    "print(a / b)"
   ]
  },
  {
   "cell_type": "code",
   "execution_count": 6,
   "metadata": {
    "id": "UIxLnDRhVyPk"
   },
   "outputs": [
    {
     "data": {
      "text/plain": [
       "False"
      ]
     },
     "execution_count": 6,
     "metadata": {},
     "output_type": "execute_result"
    }
   ],
   "source": [
    "a == b"
   ]
  },
  {
   "cell_type": "code",
   "execution_count": 7,
   "metadata": {
    "id": "orM5JHsN-GTW"
   },
   "outputs": [
    {
     "data": {
      "text/plain": [
       "100"
      ]
     },
     "execution_count": 7,
     "metadata": {},
     "output_type": "execute_result"
    }
   ],
   "source": [
    "a"
   ]
  },
  {
   "cell_type": "code",
   "execution_count": 8,
   "metadata": {
    "id": "UR4Cctbp-I6i"
   },
   "outputs": [
    {
     "data": {
      "text/plain": [
       "10"
      ]
     },
     "execution_count": 8,
     "metadata": {},
     "output_type": "execute_result"
    }
   ],
   "source": [
    "b"
   ]
  },
  {
   "cell_type": "markdown",
   "metadata": {
    "id": "iHdGidr_V113"
   },
   "source": [
    "### 변수는 변한다.\n",
    "- 변수는 공간입니다.\n",
    "- 그 공간에 새로운 값을 할당하면 새로운 값으로 변경됩니다."
   ]
  },
  {
   "cell_type": "code",
   "execution_count": 9,
   "metadata": {
    "id": "b5eP05lfWMxL"
   },
   "outputs": [
    {
     "name": "stdout",
     "output_type": "stream",
     "text": [
      "100\n",
      "10\n"
     ]
    }
   ],
   "source": [
    "print(a)\n",
    "print(b)"
   ]
  },
  {
   "cell_type": "code",
   "execution_count": 10,
   "metadata": {
    "id": "LWq0FYbFWX13"
   },
   "outputs": [
    {
     "name": "stdout",
     "output_type": "stream",
     "text": [
      "10\n",
      "100\n"
     ]
    }
   ],
   "source": [
    "a = 10\n",
    "b = 100\n",
    "\n",
    "print(a)\n",
    "print(b)"
   ]
  },
  {
   "cell_type": "code",
   "execution_count": 11,
   "metadata": {
    "id": "X8a1nilE-Woo"
   },
   "outputs": [
    {
     "data": {
      "text/plain": [
       "20"
      ]
     },
     "execution_count": 11,
     "metadata": {},
     "output_type": "execute_result"
    }
   ],
   "source": [
    "a = 20\n",
    "a"
   ]
  },
  {
   "cell_type": "markdown",
   "metadata": {
    "id": "yDx8cHXjWbqq"
   },
   "source": [
    "- 변수를 만드는 추가적인 방법\n",
    " - `a, b = a에 저장할 값, b에 저장할 값`\n",
    "   - 한 줄에 여러 개의 변수를 만들 수 있습니다.\n",
    " - `a = b = 저장할 값`\n",
    "   - a와 b에 같은 값이 저장됩니다."
   ]
  },
  {
   "cell_type": "code",
   "execution_count": 12,
   "metadata": {
    "id": "_RfLOyg0W2ja"
   },
   "outputs": [
    {
     "name": "stdout",
     "output_type": "stream",
     "text": [
      "1000\n",
      "2000\n"
     ]
    }
   ],
   "source": [
    "a, b = 1000, 2000\n",
    "print(a)\n",
    "print(b)"
   ]
  },
  {
   "cell_type": "code",
   "execution_count": 13,
   "metadata": {
    "id": "XRHOlr3QW6M2"
   },
   "outputs": [
    {
     "name": "stdout",
     "output_type": "stream",
     "text": [
      "500\n",
      "500\n"
     ]
    }
   ],
   "source": [
    "a = b = 500\n",
    "print(a)\n",
    "print(b)"
   ]
  },
  {
   "cell_type": "markdown",
   "metadata": {
    "id": "eDnCvIKbPYfq"
   },
   "source": [
    "## **[2] 변수 이름 규칙**\n",
    "- **영문자 + 숫자(혹은 언더바 `_`)**의 형식을 사용합니다.\n",
    " - ex) `a, a1, data1, data_12`\n",
    "- 주의할 점\n",
    " - 숫자가 맨 앞에 오면 안됩니다.\n",
    " - 언더바 외 특수문자가 들어가면 안됩니다.\n",
    " - 공백이 들어가면 안됩니다.\n",
    " - 소문자와 대문자는 구분되어 사용됩니다."
   ]
  },
  {
   "cell_type": "code",
   "execution_count": 14,
   "metadata": {
    "id": "QrKzNRPBSMZY"
   },
   "outputs": [
    {
     "ename": "SyntaxError",
     "evalue": "invalid decimal literal (2705109668.py, line 1)",
     "output_type": "error",
     "traceback": [
      "\u001b[0;36m  Cell \u001b[0;32mIn[14], line 1\u001b[0;36m\u001b[0m\n\u001b[0;31m    1a = 100\u001b[0m\n\u001b[0m    ^\u001b[0m\n\u001b[0;31mSyntaxError\u001b[0m\u001b[0;31m:\u001b[0m invalid decimal literal\n"
     ]
    }
   ],
   "source": [
    "1a = 100"
   ]
  },
  {
   "cell_type": "code",
   "execution_count": 15,
   "metadata": {
    "id": "dFhFswzIYEg-"
   },
   "outputs": [
    {
     "ename": "SyntaxError",
     "evalue": "cannot assign to expression here. Maybe you meant '==' instead of '='? (3140184869.py, line 1)",
     "output_type": "error",
     "traceback": [
      "\u001b[0;36m  Cell \u001b[0;32mIn[15], line 1\u001b[0;36m\u001b[0m\n\u001b[0;31m    a@1 = 100\u001b[0m\n\u001b[0m    ^\u001b[0m\n\u001b[0;31mSyntaxError\u001b[0m\u001b[0;31m:\u001b[0m cannot assign to expression here. Maybe you meant '==' instead of '='?\n"
     ]
    }
   ],
   "source": [
    "a@1 = 100"
   ]
  },
  {
   "cell_type": "code",
   "execution_count": 16,
   "metadata": {
    "id": "rAk9pLhPYIxN"
   },
   "outputs": [
    {
     "ename": "SyntaxError",
     "evalue": "invalid syntax (390930875.py, line 1)",
     "output_type": "error",
     "traceback": [
      "\u001b[0;36m  Cell \u001b[0;32mIn[16], line 1\u001b[0;36m\u001b[0m\n\u001b[0;31m    a 1 = 100\u001b[0m\n\u001b[0m      ^\u001b[0m\n\u001b[0;31mSyntaxError\u001b[0m\u001b[0;31m:\u001b[0m invalid syntax\n"
     ]
    }
   ],
   "source": [
    "a 1 = 100"
   ]
  },
  {
   "cell_type": "code",
   "execution_count": 17,
   "metadata": {
    "id": "8btcaod3mT8U"
   },
   "outputs": [
    {
     "name": "stdout",
     "output_type": "stream",
     "text": [
      "10\n",
      "100\n"
     ]
    }
   ],
   "source": [
    "a = 10\n",
    "A = 100\n",
    "print(a)\n",
    "print(A)"
   ]
  },
  {
   "cell_type": "code",
   "execution_count": 18,
   "metadata": {
    "id": "S_3sU5ybAjgi"
   },
   "outputs": [
    {
     "name": "stdout",
     "output_type": "stream",
     "text": [
      "100\n",
      "1000\n"
     ]
    }
   ],
   "source": [
    "a_1 = 100\n",
    "A_1 = 1000\n",
    "print(a_1)\n",
    "print(A_1)"
   ]
  },
  {
   "cell_type": "markdown",
   "metadata": {
    "id": "BA51cEVPSNFz"
   },
   "source": [
    "## **[3] 변수의 종류**\n",
    "- 변수의 종류를 자료형이라고 부릅니다.\n",
    "- 많이 사용 하는 자료형들의 종류\n",
    " - 숫자형\n",
    " - 문자형\n",
    " - 리스트(list)\n",
    " - 튜플(tuple)\n",
    " - 딕셔너리(dict)\n",
    " - 집합(set)"
   ]
  },
  {
   "cell_type": "code",
   "execution_count": 21,
   "metadata": {
    "id": "EAEBXgF1S5XC"
   },
   "outputs": [],
   "source": [
    "#숫자형\n",
    "a = 1\n",
    "b = 0.1\n",
    "\n",
    "#문자형\n",
    "c = \"Hello, World\"\n",
    "\n",
    "#리스트(list)\n",
    "d = [1,2,\"Hello, World\", b]\n",
    "\n",
    "#튜플(tuple)\n",
    "e = (1,2,3,'a')\n",
    "\n",
    "#딕셔너리(dict)\n",
    "f = {'a':1, 'b':2}\n",
    "\n",
    "#집합(set)\n",
    "g = {1,2,3,3}"
   ]
  },
  {
   "cell_type": "code",
   "execution_count": 20,
   "metadata": {
    "id": "scVyoTCBnNq6"
   },
   "outputs": [
    {
     "name": "stdout",
     "output_type": "stream",
     "text": [
      "1\n",
      "<class 'int'>\n",
      "\n",
      "0.1\n",
      "<class 'float'>\n",
      "\n",
      "Hello, World\n",
      "<class 'str'>\n",
      "\n",
      "[1, 2, 'Hello, World', 0.1]\n",
      "<class 'list'>\n",
      "\n",
      "(1, 2, 3, 'a')\n",
      "<class 'tuple'>\n",
      "\n",
      "{'a': 1, 'b': 2}\n",
      "<class 'dict'>\n",
      "\n",
      "{1, 2, 3}\n",
      "<class 'set'>\n",
      "\n"
     ]
    }
   ],
   "source": [
    "for i in [a,b,c,d,e,f,g]:\n",
    "    print(i)\n",
    "    print(type(i))\n",
    "    print()"
   ]
  },
  {
   "cell_type": "markdown",
   "metadata": {
    "id": "76FuajxVo6dR"
   },
   "source": [
    "## **[4] print 함수**\n",
    "- 결과물을 출력하는 함수\n",
    "- print(변수 or 출력하고 싶은 결과물)"
   ]
  },
  {
   "cell_type": "code",
   "execution_count": 22,
   "metadata": {
    "id": "WjN_bK6soOLi"
   },
   "outputs": [
    {
     "name": "stdout",
     "output_type": "stream",
     "text": [
      "Hello, World\n",
      "0.1\n",
      "ABCDEFG\n"
     ]
    }
   ],
   "source": [
    "print(\"Hello, World\")\n",
    "print(100/1000)\n",
    "\n",
    "a = 'ABCDEFG'\n",
    "print(a)"
   ]
  },
  {
   "cell_type": "markdown",
   "metadata": {
    "id": "7O0Vro_Up5JU"
   },
   "source": [
    "- 여러 값을 한 줄에 출력"
   ]
  },
  {
   "cell_type": "code",
   "execution_count": 23,
   "metadata": {
    "id": "O83H02oIpzHB"
   },
   "outputs": [
    {
     "name": "stdout",
     "output_type": "stream",
     "text": [
      "Hello, World 0.1 ABCDEFG\n",
      "Hello, World | 0.1 | ABCDEFG\n",
      "Hello, World\n",
      "0.1\n",
      "ABCDEFG\n"
     ]
    }
   ],
   "source": [
    "print(\"Hello, World\", 100/1000, a) #sep 옵션이 없으면 디폴트로 공백(\" \")\n",
    "print(\"Hello, World\", 100/1000, a, sep=' | ')\n",
    "print(\"Hello, World\", 100/1000, a, sep='\\n') #\\n은 줄바꿈을 의미"
   ]
  },
  {
   "cell_type": "markdown",
   "metadata": {
    "id": "T1yddz_Dqkh1"
   },
   "source": [
    "- 여러 번 호출을 한 줄에 출력"
   ]
  },
  {
   "cell_type": "code",
   "execution_count": null,
   "metadata": {
    "id": "GBpPMekiqTb7"
   },
   "outputs": [],
   "source": [
    "print(\"Hello, World\", end=', ')\n",
    "print(100/1000, end=', ')\n",
    "\n",
    "a = 'ABCDEFG'\n",
    "print(a)"
   ]
  }
 ],
 "metadata": {
  "colab": {
   "provenance": []
  },
  "kernelspec": {
   "display_name": "Python 3 (ipykernel)",
   "language": "python",
   "name": "python3"
  },
  "language_info": {
   "codemirror_mode": {
    "name": "ipython",
    "version": 3
   },
   "file_extension": ".py",
   "mimetype": "text/x-python",
   "name": "python",
   "nbconvert_exporter": "python",
   "pygments_lexer": "ipython3",
   "version": "3.11.5"
  }
 },
 "nbformat": 4,
 "nbformat_minor": 1
}
