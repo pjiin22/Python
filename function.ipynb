{
 "cells": [
  {
   "cell_type": "markdown",
   "metadata": {
    "id": "nH5bP736jAfa"
   },
   "source": [
    "## **[1] 함수란?**\n",
    "\n",
    "![이미지](https://velog.velcdn.com/images%2Ffalling_star3%2Fpost%2Fa3599f21-8e77-4862-afce-8d8c3399bd0b%2Fimg_codingmath_72.png)\n",
    "\n",
    "- 입력값을 받아서 명령을 수행하고 결괏값을 반환하는 것입니다.\n",
    "- 코드의 반복을 줄이기 때문에 매우 유용합니다.\n",
    "\n",
    "\n",
    "    def 함수명(변수1, 변수2, ...):\n",
    "        수행문1\n",
    "        수행문2\n",
    "        ...\n",
    "        return 결괏값 #결괏값이 없는 경우 생략 가능"
   ]
  },
  {
   "cell_type": "markdown",
   "metadata": {
    "id": "3EiZzgo8kRd_"
   },
   "source": [
    "- 입력값에 2를 곱해주는 함수를 작성해봅시다."
   ]
  },
  {
   "cell_type": "code",
   "execution_count": 2,
   "metadata": {
    "id": "TQIRiVmLhMpQ"
   },
   "outputs": [],
   "source": [
    "def twice(x):\n",
    "    return x*2"
   ]
  },
  {
   "cell_type": "code",
   "execution_count": 4,
   "metadata": {
    "id": "IpPsP5PxkgCe"
   },
   "outputs": [
    {
     "name": "stdout",
     "output_type": "stream",
     "text": [
      "4\n",
      "6\n"
     ]
    }
   ],
   "source": [
    "a = 2\n",
    "b = 3\n",
    "print(twice(a))\n",
    "print(twice(b))"
   ]
  },
  {
   "cell_type": "markdown",
   "metadata": {
    "id": "Ty3qu79Ukz6w"
   },
   "source": [
    "- 입력값이 없는 함수, 결괏값이 없는 함수도 존재합니다."
   ]
  },
  {
   "cell_type": "code",
   "execution_count": 7,
   "metadata": {
    "id": "DA2yBz4Pkq1L"
   },
   "outputs": [],
   "source": [
    "def say():\n",
    "    return 'hello'"
   ]
  },
  {
   "cell_type": "code",
   "execution_count": 9,
   "metadata": {
    "id": "J2TpCJEblKvC"
   },
   "outputs": [
    {
     "name": "stdout",
     "output_type": "stream",
     "text": [
      "hello\n"
     ]
    }
   ],
   "source": [
    "a = say()\n",
    "print(a)"
   ]
  },
  {
   "cell_type": "code",
   "execution_count": 11,
   "metadata": {
    "id": "a1YDdSVtlOIp"
   },
   "outputs": [],
   "source": [
    "def hello(x):\n",
    "    print('hello ' + x)"
   ]
  },
  {
   "cell_type": "code",
   "execution_count": 13,
   "metadata": {
    "id": "QzJYXxmplUVQ"
   },
   "outputs": [
    {
     "name": "stdout",
     "output_type": "stream",
     "text": [
      "hello python\n"
     ]
    }
   ],
   "source": [
    "hello('python')"
   ]
  },
  {
   "cell_type": "code",
   "execution_count": 15,
   "metadata": {
    "id": "6WTGrMveoQ1G"
   },
   "outputs": [
    {
     "name": "stdout",
     "output_type": "stream",
     "text": [
      "hello python\n",
      "None\n"
     ]
    }
   ],
   "source": [
    "a = hello('python')\n",
    "print(a)"
   ]
  },
  {
   "cell_type": "code",
   "execution_count": 17,
   "metadata": {
    "id": "ezh602D3lWVs"
   },
   "outputs": [],
   "source": [
    "def say():\n",
    "    print('hello')"
   ]
  },
  {
   "cell_type": "code",
   "execution_count": 19,
   "metadata": {
    "id": "4yJEB4julc6b"
   },
   "outputs": [
    {
     "name": "stdout",
     "output_type": "stream",
     "text": [
      "hello\n"
     ]
    }
   ],
   "source": [
    "say()"
   ]
  },
  {
   "cell_type": "code",
   "execution_count": 21,
   "metadata": {
    "id": "Tfisgjx1ocqZ"
   },
   "outputs": [
    {
     "name": "stdout",
     "output_type": "stream",
     "text": [
      "hello\n",
      "None\n"
     ]
    }
   ],
   "source": [
    "a = say()\n",
    "print(a)"
   ]
  },
  {
   "cell_type": "markdown",
   "metadata": {
    "id": "sqvn9iMCl1MF"
   },
   "source": [
    "- 결괏값은 하나입니다.\n",
    " - `return`을 만나면 그 함수는 즉시 종료됩니다."
   ]
  },
  {
   "cell_type": "code",
   "execution_count": 24,
   "metadata": {
    "id": "Um_VWR5PldbK"
   },
   "outputs": [],
   "source": [
    "def add_minus(x, y):\n",
    "    return x + y, x - y"
   ]
  },
  {
   "cell_type": "code",
   "execution_count": 26,
   "metadata": {
    "id": "C09FxdnAmC0B"
   },
   "outputs": [
    {
     "name": "stdout",
     "output_type": "stream",
     "text": [
      "5\n",
      "-1\n"
     ]
    }
   ],
   "source": [
    "a, b = add_minus(2,3)\n",
    "print(a)\n",
    "print(b)"
   ]
  },
  {
   "cell_type": "code",
   "execution_count": 28,
   "metadata": {
    "id": "ihBPz62PmIEq"
   },
   "outputs": [
    {
     "name": "stdout",
     "output_type": "stream",
     "text": [
      "(5, -1)\n"
     ]
    }
   ],
   "source": [
    "a = add_minus(2,3)\n",
    "print(a)"
   ]
  },
  {
   "cell_type": "code",
   "execution_count": 30,
   "metadata": {
    "id": "a_vY1wD_mL1I"
   },
   "outputs": [],
   "source": [
    "def add_minus(x, y):\n",
    "    return x + y\n",
    "    return x - y"
   ]
  },
  {
   "cell_type": "code",
   "execution_count": 32,
   "metadata": {
    "id": "EH2UT1_nmOfc"
   },
   "outputs": [
    {
     "name": "stdout",
     "output_type": "stream",
     "text": [
      "5\n"
     ]
    }
   ],
   "source": [
    "a = add_minus(2,3)\n",
    "print(a)"
   ]
  },
  {
   "cell_type": "markdown",
   "metadata": {
    "id": "7up0aGydmYCv"
   },
   "source": [
    "## **[2] 변수의 범위**\n",
    "- 함수 안에서의 변수는 그 함수 안에서만 작동합니다. 함수 밖의 변수 이름과는 전혀 상관이 없습니다."
   ]
  },
  {
   "cell_type": "code",
   "execution_count": 35,
   "metadata": {
    "id": "K8o6wg1mmRVa"
   },
   "outputs": [
    {
     "name": "stdout",
     "output_type": "stream",
     "text": [
      "2\n",
      "1\n"
     ]
    }
   ],
   "source": [
    "x = 1\n",
    "\n",
    "def twice(x):\n",
    "    x = x * 2\n",
    "    return x\n",
    "\n",
    "print(twice(x))\n",
    "print(x)"
   ]
  },
  {
   "cell_type": "code",
   "execution_count": 37,
   "metadata": {
    "id": "SQi15dxXmwhF"
   },
   "outputs": [
    {
     "name": "stdout",
     "output_type": "stream",
     "text": [
      "2\n",
      "1\n"
     ]
    }
   ],
   "source": [
    "x = 1\n",
    "\n",
    "def twice(i):\n",
    "    i = i * 2\n",
    "    return i\n",
    "\n",
    "print(twice(x))\n",
    "print(x)"
   ]
  },
  {
   "cell_type": "code",
   "execution_count": 39,
   "metadata": {
    "id": "ll0xNm-0nQP0"
   },
   "outputs": [
    {
     "ename": "NameError",
     "evalue": "name 'i' is not defined",
     "output_type": "error",
     "traceback": [
      "\u001b[1;31m---------------------------------------------------------------------------\u001b[0m",
      "\u001b[1;31mNameError\u001b[0m                                 Traceback (most recent call last)",
      "Cell \u001b[1;32mIn[39], line 1\u001b[0m\n\u001b[1;32m----> 1\u001b[0m \u001b[38;5;28mprint\u001b[39m(i)\n",
      "\u001b[1;31mNameError\u001b[0m: name 'i' is not defined"
     ]
    }
   ],
   "source": [
    "print(i)"
   ]
  },
  {
   "cell_type": "markdown",
   "metadata": {
    "id": "2IMGZUMVnWSZ"
   },
   "source": [
    "## **[3] `lambda`로 간결하게 함수 만들기**\n",
    "\n",
    "    lambda 변수1, 변수2, ...: 결괏값"
   ]
  },
  {
   "cell_type": "code",
   "execution_count": null,
   "metadata": {
    "id": "3JRJgYIRnQ2S"
   },
   "outputs": [],
   "source": [
    "twice = lambda x: x*2\n",
    "print(twice(10))"
   ]
  },
  {
   "cell_type": "code",
   "execution_count": 42,
   "metadata": {
    "id": "ZqudWW8jpn3H"
   },
   "outputs": [],
   "source": [
    "def twice1(x):\n",
    "    return x*2"
   ]
  },
  {
   "cell_type": "code",
   "execution_count": 44,
   "metadata": {
    "id": "oAK-jHWNptdw"
   },
   "outputs": [
    {
     "data": {
      "text/plain": [
       "20"
      ]
     },
     "execution_count": 44,
     "metadata": {},
     "output_type": "execute_result"
    }
   ],
   "source": [
    "twice1(10)"
   ]
  },
  {
   "cell_type": "code",
   "execution_count": null,
   "metadata": {
    "id": "YJuuMWn-Ek5E"
   },
   "outputs": [],
   "source": []
  }
 ],
 "metadata": {
  "colab": {
   "provenance": []
  },
  "kernelspec": {
   "display_name": "Python 3 (ipykernel)",
   "language": "python",
   "name": "python3"
  },
  "language_info": {
   "codemirror_mode": {
    "name": "ipython",
    "version": 3
   },
   "file_extension": ".py",
   "mimetype": "text/x-python",
   "name": "python",
   "nbconvert_exporter": "python",
   "pygments_lexer": "ipython3",
   "version": "3.12.4"
  }
 },
 "nbformat": 4,
 "nbformat_minor": 4
}
