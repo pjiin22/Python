{
 "cells": [
  {
   "cell_type": "markdown",
   "metadata": {
    "id": "Nmg8KaxwEAsD"
   },
   "source": [
    "## **[1] 파이썬에서 `while`이란**\n",
    "- 특정 조건이 지속될 때까지 반복하여 수행합니다.\n",
    "\n",
    "    `while` 조건문:\n",
    "        수행문1\n",
    "        수행문2\n",
    "        ...\n",
    "\n"
   ]
  },
  {
   "cell_type": "markdown",
   "metadata": {
    "id": "m4andbN9E8--"
   },
   "source": [
    "`짜장면을 열 그릇 먹으면 무료 쿠폰을 받는다`는 것을 `while`문으로 표현하면?"
   ]
  },
  {
   "cell_type": "code",
   "execution_count": 1,
   "metadata": {
    "id": "2UXnzgeUDbxF"
   },
   "outputs": [
    {
     "name": "stdout",
     "output_type": "stream",
     "text": [
      "짜장면을 1그릇 먹었습니다.\n",
      "짜장면을 2그릇 먹었습니다.\n",
      "짜장면을 3그릇 먹었습니다.\n",
      "짜장면을 4그릇 먹었습니다.\n",
      "짜장면을 5그릇 먹었습니다.\n",
      "짜장면을 6그릇 먹었습니다.\n",
      "짜장면을 7그릇 먹었습니다.\n",
      "짜장면을 8그릇 먹었습니다.\n",
      "짜장면을 9그릇 먹었습니다.\n",
      "짜장면을 10그릇 먹었습니다.\n",
      "무료 쿠폰을 받았습니다.\n"
     ]
    }
   ],
   "source": [
    "jajang = 0\n",
    "while jajang < 10:\n",
    "    jajang += 1\n",
    "    print(f'짜장면을 {jajang}그릇 먹었습니다.')\n",
    "\n",
    "    if jajang == 10:\n",
    "        print('무료 쿠폰을 받았습니다.')"
   ]
  },
  {
   "cell_type": "markdown",
   "metadata": {
    "id": "HZu4CKTsG4Px"
   },
   "source": [
    "\n",
    "|jajang|조건문|조건문 판단|수행문|while문|\n",
    "|:-----|:---|:---|:---|:---|\n",
    "|0|0 < 10|참|짜장면을 1그릇 먹었습니다.|\t반복|\n",
    "|1|1 < 10|참|짜장면을 2그릇 먹었습니다.|\t반복|\n",
    "|2|2 < 10|참|짜장면을 3그릇 먹었습니다.|\t반복|\n",
    "|3|3 < 10|참|짜장면을 4그릇 먹었습니다.|\t반복|\n",
    "|4|4 < 10|참|짜장면을 5그릇 먹었습니다.|\t반복|\n",
    "|5|5 < 10|참|짜장면을 6그릇 먹었습니다.|\t반복|\n",
    "|6|6 < 10|참|짜장면을 7그릇 먹었습니다.|\t반복|\n",
    "|7|7 < 10|참|짜장면을 8그릇 먹었습니다.|\t반복|\n",
    "|8|8 < 10|참|짜장면을 9그릇 먹었습니다.|\t반복|\n",
    "|9|9 < 10|참|짜장면을 10그릇 먹었습니다. 무료 쿠폰을 받았습니다.|\t반복|\n",
    "|10|10 < 10|거짓||\t\t종료|"
   ]
  },
  {
   "cell_type": "markdown",
   "metadata": {
    "id": "UI-k5ajsIEh4"
   },
   "source": [
    "## **[2] `while`문 강제로 빠져나가기**"
   ]
  },
  {
   "cell_type": "markdown",
   "metadata": {
    "id": "j2Nxzl2kIcVX"
   },
   "source": [
    "- `while`문은 조건이 거짓이 되면 끝나게 되는데, 중간에 특정 조건에 다다르면 빠져나가고 싶을 때는 `break`를 쓰면 됩니다."
   ]
  },
  {
   "cell_type": "code",
   "execution_count": 3,
   "metadata": {
    "id": "P72Bd-BmGwYd"
   },
   "outputs": [
    {
     "name": "stdout",
     "output_type": "stream",
     "text": [
      "짜장면을 1그릇 먹었습니다.\n",
      "짜장면을 2그릇 먹었습니다.\n",
      "짜장면을 3그릇 먹었습니다.\n",
      "짜장면을 4그릇 먹었습니다.\n",
      "짜장면을 5그릇 먹었습니다.\n",
      "짜장면을 6그릇 먹었습니다.\n",
      "짜장면을 7그릇 먹었습니다.\n",
      "짜장면을 8그릇 먹었습니다.\n",
      "짜장면을 9그릇 먹었습니다.\n",
      "짜장면을 10그릇 먹었습니다.\n",
      "무료 쿠폰을 받았습니다.\n"
     ]
    }
   ],
   "source": [
    "jajang = 0\n",
    "while True:\n",
    "    jajang += 1\n",
    "    print(f'짜장면을 {jajang}그릇 먹었습니다.')\n",
    "\n",
    "    if jajang == 10:\n",
    "        print('무료 쿠폰을 받았습니다.')\n",
    "        break"
   ]
  },
  {
   "cell_type": "markdown",
   "metadata": {
    "id": "LCZvopnvI-NQ"
   },
   "source": [
    "- 위의 경우에 `break`문이 없으면 무한루프가 됩니다."
   ]
  },
  {
   "cell_type": "code",
   "execution_count": 6,
   "metadata": {
    "id": "dimS85P1I0sV"
   },
   "outputs": [
    {
     "name": "stderr",
     "output_type": "stream",
     "text": [
      "IOPub data rate exceeded.\n",
      "The Jupyter server will temporarily stop sending output\n",
      "to the client in order to avoid crashing it.\n",
      "To change this limit, set the config variable\n",
      "`--ServerApp.iopub_data_rate_limit`.\n",
      "\n",
      "Current values:\n",
      "ServerApp.iopub_data_rate_limit=1000000.0 (bytes/sec)\n",
      "ServerApp.rate_limit_window=3.0 (secs)\n",
      "\n"
     ]
    },
    {
     "ename": "KeyboardInterrupt",
     "evalue": "",
     "output_type": "error",
     "traceback": [
      "\u001b[1;31m---------------------------------------------------------------------------\u001b[0m",
      "\u001b[1;31mKeyboardInterrupt\u001b[0m                         Traceback (most recent call last)",
      "Cell \u001b[1;32mIn[6], line 4\u001b[0m\n\u001b[0;32m      2\u001b[0m \u001b[38;5;28;01mwhile\u001b[39;00m \u001b[38;5;28;01mTrue\u001b[39;00m:\n\u001b[0;32m      3\u001b[0m     jajang \u001b[38;5;241m+\u001b[39m\u001b[38;5;241m=\u001b[39m \u001b[38;5;241m1\u001b[39m\n\u001b[1;32m----> 4\u001b[0m     \u001b[38;5;28mprint\u001b[39m(\u001b[38;5;124mf\u001b[39m\u001b[38;5;124m'\u001b[39m\u001b[38;5;124m짜장면을 \u001b[39m\u001b[38;5;132;01m{\u001b[39;00mjajang\u001b[38;5;132;01m}\u001b[39;00m\u001b[38;5;124m그릇 먹었습니다.\u001b[39m\u001b[38;5;124m'\u001b[39m)\n\u001b[0;32m      6\u001b[0m     \u001b[38;5;28;01mif\u001b[39;00m jajang \u001b[38;5;241m==\u001b[39m \u001b[38;5;241m10\u001b[39m:\n\u001b[0;32m      7\u001b[0m         \u001b[38;5;28mprint\u001b[39m(\u001b[38;5;124m'\u001b[39m\u001b[38;5;124m무료 쿠폰을 받았습니다.\u001b[39m\u001b[38;5;124m'\u001b[39m)\n",
      "File \u001b[1;32m~\\anaconda3\\Lib\\site-packages\\ipykernel\\iostream.py:649\u001b[0m, in \u001b[0;36mOutStream.write\u001b[1;34m(self, string)\u001b[0m\n\u001b[0;32m    646\u001b[0m     msg \u001b[38;5;241m=\u001b[39m \u001b[38;5;124m\"\u001b[39m\u001b[38;5;124mI/O operation on closed file\u001b[39m\u001b[38;5;124m\"\u001b[39m\n\u001b[0;32m    647\u001b[0m     \u001b[38;5;28;01mraise\u001b[39;00m \u001b[38;5;167;01mValueError\u001b[39;00m(msg)\n\u001b[1;32m--> 649\u001b[0m is_child \u001b[38;5;241m=\u001b[39m \u001b[38;5;129;01mnot\u001b[39;00m \u001b[38;5;28mself\u001b[39m\u001b[38;5;241m.\u001b[39m_is_master_process()\n\u001b[0;32m    650\u001b[0m \u001b[38;5;66;03m# only touch the buffer in the IO thread to avoid races\u001b[39;00m\n\u001b[0;32m    651\u001b[0m \u001b[38;5;28;01mwith\u001b[39;00m \u001b[38;5;28mself\u001b[39m\u001b[38;5;241m.\u001b[39m_buffer_lock:\n",
      "File \u001b[1;32m~\\anaconda3\\Lib\\site-packages\\ipykernel\\iostream.py:519\u001b[0m, in \u001b[0;36mOutStream._is_master_process\u001b[1;34m(self)\u001b[0m\n\u001b[0;32m    516\u001b[0m     \u001b[38;5;28mself\u001b[39m\u001b[38;5;241m.\u001b[39mwatch_fd_thread\u001b[38;5;241m.\u001b[39mdaemon \u001b[38;5;241m=\u001b[39m \u001b[38;5;28;01mTrue\u001b[39;00m\n\u001b[0;32m    517\u001b[0m     \u001b[38;5;28mself\u001b[39m\u001b[38;5;241m.\u001b[39mwatch_fd_thread\u001b[38;5;241m.\u001b[39mstart()\n\u001b[1;32m--> 519\u001b[0m \u001b[38;5;28;01mdef\u001b[39;00m \u001b[38;5;21m_is_master_process\u001b[39m(\u001b[38;5;28mself\u001b[39m):\n\u001b[0;32m    520\u001b[0m     \u001b[38;5;28;01mreturn\u001b[39;00m os\u001b[38;5;241m.\u001b[39mgetpid() \u001b[38;5;241m==\u001b[39m \u001b[38;5;28mself\u001b[39m\u001b[38;5;241m.\u001b[39m_master_pid\n\u001b[0;32m    522\u001b[0m \u001b[38;5;28;01mdef\u001b[39;00m \u001b[38;5;21mset_parent\u001b[39m(\u001b[38;5;28mself\u001b[39m, parent):\n",
      "\u001b[1;31mKeyboardInterrupt\u001b[0m: "
     ]
    }
   ],
   "source": [
    "jajang = 0\n",
    "while True:\n",
    "    jajang += 1\n",
    "    print(f'짜장면을 {jajang}그릇 먹었습니다.')\n",
    "\n",
    "    if jajang == 10:\n",
    "        print('무료 쿠폰을 받았습니다.')"
   ]
  },
  {
   "cell_type": "markdown",
   "metadata": {
    "id": "lmaxR7nGJZUh"
   },
   "source": [
    "## **[3] 특정 조건에서 수행문을 건너뛰고 계속 `while`문을 반복하려면?**\n",
    "- 1~10까지의 숫자 중 홀수만 출력하는 코드는 다음과 같이 짤 수 있습니다.\n"
   ]
  },
  {
   "cell_type": "markdown",
   "metadata": {
    "id": "DWgBqo9yKwFj"
   },
   "source": [
    "- `continue`는 해당 조건에서 그 루프가 끝나고 다음 루프로 넘어가도록 합니다."
   ]
  },
  {
   "cell_type": "code",
   "execution_count": 12,
   "metadata": {
    "id": "yownbD1rJL1y"
   },
   "outputs": [
    {
     "name": "stdout",
     "output_type": "stream",
     "text": [
      "1\n",
      "3\n",
      "5\n",
      "7\n",
      "9\n"
     ]
    }
   ],
   "source": [
    "a = 0\n",
    "while a < 10:\n",
    "    a += 1\n",
    "    if a % 2 == 0:\n",
    "        continue\n",
    "    print(a)"
   ]
  },
  {
   "cell_type": "markdown",
   "metadata": {
    "id": "qZlqh6fzK4-4"
   },
   "source": [
    "- 전 시간에 배운 `pass`와의 차이점을 주의합니다. `pass`는 실행할 코드가 없는 것과 마찬가지로 해당 루프는 모두 실행하고 다음 루프로 넘어갑니다."
   ]
  },
  {
   "cell_type": "code",
   "execution_count": 15,
   "metadata": {
    "id": "A6kGmiFiLTXU"
   },
   "outputs": [
    {
     "name": "stdout",
     "output_type": "stream",
     "text": [
      "1\n",
      "2\n",
      "3\n",
      "4\n",
      "5\n",
      "6\n",
      "7\n",
      "8\n",
      "9\n",
      "10\n"
     ]
    }
   ],
   "source": [
    "a = 0\n",
    "while a < 10:\n",
    "    a += 1\n",
    "    if a % 2 == 0:\n",
    "        pass\n",
    "    print(a)"
   ]
  },
  {
   "cell_type": "code",
   "execution_count": 17,
   "metadata": {
    "id": "5JxeHlcEKtOd"
   },
   "outputs": [
    {
     "name": "stdout",
     "output_type": "stream",
     "text": [
      "1\n",
      "3\n",
      "5\n",
      "7\n",
      "9\n"
     ]
    }
   ],
   "source": [
    "a = 0\n",
    "while a < 10:\n",
    "    a += 1\n",
    "    if a % 2 == 0:\n",
    "        pass\n",
    "    else:\n",
    "        print(a)"
   ]
  },
  {
   "cell_type": "markdown",
   "metadata": {
    "id": "BWXMmkFkLby7"
   },
   "source": [
    "- `break`는 while문 자체를 중단시킵니다."
   ]
  },
  {
   "cell_type": "code",
   "execution_count": 20,
   "metadata": {
    "id": "VqFXAgz0KuKn"
   },
   "outputs": [
    {
     "name": "stdout",
     "output_type": "stream",
     "text": [
      "1\n"
     ]
    }
   ],
   "source": [
    "a = 0\n",
    "while a < 10:\n",
    "    a += 1\n",
    "    if a % 2 == 0:\n",
    "        break\n",
    "    print(a)"
   ]
  },
  {
   "cell_type": "code",
   "execution_count": null,
   "metadata": {
    "id": "maPYj0ojLotj"
   },
   "outputs": [],
   "source": []
  },
  {
   "cell_type": "code",
   "execution_count": null,
   "metadata": {
    "id": "H32CgkLZLov3"
   },
   "outputs": [],
   "source": []
  },
  {
   "cell_type": "code",
   "execution_count": null,
   "metadata": {
    "id": "m6SIRaxVLoyc"
   },
   "outputs": [],
   "source": []
  }
 ],
 "metadata": {
  "colab": {
   "provenance": []
  },
  "kernelspec": {
   "display_name": "Python 3 (ipykernel)",
   "language": "python",
   "name": "python3"
  },
  "language_info": {
   "codemirror_mode": {
    "name": "ipython",
    "version": 3
   },
   "file_extension": ".py",
   "mimetype": "text/x-python",
   "name": "python",
   "nbconvert_exporter": "python",
   "pygments_lexer": "ipython3",
   "version": "3.12.4"
  }
 },
 "nbformat": 4,
 "nbformat_minor": 4
}
