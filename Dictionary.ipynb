{
 "cells": [
  {
   "cell_type": "markdown",
   "metadata": {
    "id": "gAl6LDa7ijh5"
   },
   "source": [
    "## **[1] 딕셔너리란?**\n",
    "- 키(Key): 값(Value)의 쌍이 모여있는 사전 형태의 자료형입니다.\n",
    "- 키: 값의 쌍을 중괄호(`{}`)로 감싸줍니다.\n",
    " - `변수명 = {'키1':값, '키2':값, ...}`\n",
    "- 키는 중복될 수 없고, 리스트는 키가 될 수 없습니다.\n",
    "- 위치로 인덱싱이 되지 않습니다."
   ]
  },
  {
   "cell_type": "code",
   "execution_count": 1,
   "metadata": {
    "id": "QPsvM0I1kPrS"
   },
   "outputs": [
    {
     "data": {
      "text/plain": [
       "{'name': 'merry', 'num': 1, 'birth': 'jan'}"
      ]
     },
     "execution_count": 1,
     "metadata": {},
     "output_type": "execute_result"
    }
   ],
   "source": [
    "dic = {'name':'merry',\\\n",
    "      'num':1,\\\n",
    "      'birth':'jan'}\n",
    "dic"
   ]
  },
  {
   "cell_type": "code",
   "execution_count": 2,
   "metadata": {
    "id": "SLbQVcI3iPFk"
   },
   "outputs": [
    {
     "data": {
      "text/plain": [
       "{'name': ['merry', 'john'], 'num': [1, 2, 3], 'birth': ['jan', 'feb', 'nov']}"
      ]
     },
     "execution_count": 2,
     "metadata": {},
     "output_type": "execute_result"
    }
   ],
   "source": [
    "dic = {'name':['merry','john'],\\\n",
    "      'num':[1,2,3],\\\n",
    "      'birth':['jan','feb','nov']}\n",
    "dic"
   ]
  },
  {
   "cell_type": "code",
   "execution_count": 3,
   "metadata": {
    "id": "uYc7vpasjfaz"
   },
   "outputs": [
    {
     "data": {
      "text/plain": [
       "{'name': 'john'}"
      ]
     },
     "execution_count": 3,
     "metadata": {},
     "output_type": "execute_result"
    }
   ],
   "source": [
    "{'name':'merry', 'name':'john'}"
   ]
  },
  {
   "cell_type": "code",
   "execution_count": 4,
   "metadata": {
    "id": "nVVCk9fQjyDv"
   },
   "outputs": [
    {
     "ename": "TypeError",
     "evalue": "unhashable type: 'list'",
     "output_type": "error",
     "traceback": [
      "\u001b[0;31m---------------------------------------------------------------------------\u001b[0m",
      "\u001b[0;31mTypeError\u001b[0m                                 Traceback (most recent call last)",
      "Cell \u001b[0;32mIn[4], line 1\u001b[0m\n\u001b[0;32m----> 1\u001b[0m {[\u001b[38;5;124m'\u001b[39m\u001b[38;5;124mname\u001b[39m\u001b[38;5;124m'\u001b[39m,\u001b[38;5;124m'\u001b[39m\u001b[38;5;124mnum\u001b[39m\u001b[38;5;124m'\u001b[39m]:[\u001b[38;5;124m'\u001b[39m\u001b[38;5;124mmerry\u001b[39m\u001b[38;5;124m'\u001b[39m, \u001b[38;5;241m1\u001b[39m]}\n",
      "\u001b[0;31mTypeError\u001b[0m: unhashable type: 'list'"
     ]
    }
   ],
   "source": [
    "{['name','num']:['merry', 1]}"
   ]
  },
  {
   "cell_type": "code",
   "execution_count": null,
   "metadata": {
    "id": "Nn2BN9eukeuL"
   },
   "outputs": [],
   "source": [
    "{('name','num'):[('merry',1),('john',2)]}"
   ]
  },
  {
   "cell_type": "code",
   "execution_count": 5,
   "metadata": {
    "id": "6taKPVWnknQ7"
   },
   "outputs": [
    {
     "ename": "KeyError",
     "evalue": "0",
     "output_type": "error",
     "traceback": [
      "\u001b[0;31m---------------------------------------------------------------------------\u001b[0m",
      "\u001b[0;31mKeyError\u001b[0m                                  Traceback (most recent call last)",
      "Cell \u001b[0;32mIn[5], line 1\u001b[0m\n\u001b[0;32m----> 1\u001b[0m dic[\u001b[38;5;241m0\u001b[39m]\n",
      "\u001b[0;31mKeyError\u001b[0m: 0"
     ]
    }
   ],
   "source": [
    "dic[0]"
   ]
  },
  {
   "cell_type": "markdown",
   "metadata": {
    "id": "x98-f_KVlFzl"
   },
   "source": [
    "## **[2] 딕셔너리 요소 추가, 삭제하기**\n",
    "- 추가: `딕셔너리변수명[추가할키]=추가할값`\n",
    "- 삭제: `del 딕셔너리변수명[삭제할키]`"
   ]
  },
  {
   "cell_type": "code",
   "execution_count": 6,
   "metadata": {
    "id": "iwWRLYalkCE2"
   },
   "outputs": [
    {
     "data": {
      "text/plain": [
       "{'name': ['merry', 'john'], 'num': [1, 2, 3], 'birth': ['jan', 'feb', 'nov']}"
      ]
     },
     "execution_count": 6,
     "metadata": {},
     "output_type": "execute_result"
    }
   ],
   "source": [
    "dic"
   ]
  },
  {
   "cell_type": "code",
   "execution_count": 7,
   "metadata": {
    "id": "w4P8ZcubkqPh"
   },
   "outputs": [
    {
     "name": "stdout",
     "output_type": "stream",
     "text": [
      "{'name': ['merry', 'john'], 'num': [1, 2, 3], 'birth': ['jan', 'feb', 'nov']}\n",
      "{'name': ['merry', 'john'], 'num': [1, 2, 3], 'birth': ['jan', 'feb', 'nov'], 'country': ['Korea', 'US']}\n"
     ]
    }
   ],
   "source": [
    "print(dic)\n",
    "dic['country'] = ['Korea','US']\n",
    "print(dic)"
   ]
  },
  {
   "cell_type": "code",
   "execution_count": 8,
   "metadata": {
    "id": "J74bqoWJmRWb"
   },
   "outputs": [
    {
     "name": "stdout",
     "output_type": "stream",
     "text": [
      "{'name': ['merry', 'john'], 'num': [1, 2, 3], 'birth': ['jan', 'feb', 'nov']}\n"
     ]
    }
   ],
   "source": [
    "del dic['country']\n",
    "print(dic)"
   ]
  },
  {
   "cell_type": "markdown",
   "metadata": {
    "id": "e2dO27QZmgkc"
   },
   "source": [
    "## **[3] 딕셔너리 키로 값 찾기**\n",
    "- `딕셔너리변수명[찾을키]`"
   ]
  },
  {
   "cell_type": "code",
   "execution_count": 9,
   "metadata": {
    "id": "_aw7NoYLmgHm"
   },
   "outputs": [
    {
     "name": "stdout",
     "output_type": "stream",
     "text": [
      "['merry', 'john']\n",
      "[1, 2, 3]\n"
     ]
    }
   ],
   "source": [
    "print(dic['name'])\n",
    "print(dic['num'])"
   ]
  },
  {
   "cell_type": "code",
   "execution_count": 10,
   "metadata": {
    "id": "LAbiAFbSm0Hv"
   },
   "outputs": [
    {
     "ename": "KeyError",
     "evalue": "'country'",
     "output_type": "error",
     "traceback": [
      "\u001b[0;31m---------------------------------------------------------------------------\u001b[0m",
      "\u001b[0;31mKeyError\u001b[0m                                  Traceback (most recent call last)",
      "Cell \u001b[0;32mIn[10], line 1\u001b[0m\n\u001b[0;32m----> 1\u001b[0m dic[\u001b[38;5;124m'\u001b[39m\u001b[38;5;124mcountry\u001b[39m\u001b[38;5;124m'\u001b[39m]\n",
      "\u001b[0;31mKeyError\u001b[0m: 'country'"
     ]
    }
   ],
   "source": [
    "dic['country']"
   ]
  },
  {
   "cell_type": "markdown",
   "metadata": {
    "id": "gqxfSQBfmWvh"
   },
   "source": [
    "## **[4] 딕셔너리 함수**\n",
    "- `keys()`: 키들을 반환합니다.\n",
    "- `values()`: 값들을 반환합니다.\n",
    "- `items()`: 키와 값의 튜플 쌍들을 반환합니다.\n",
    "- `get(원하는키값)`: 원하는 키 값에 대응되는 값을 반환합니다.\n",
    " - `딕셔너리변수명[원하는키값]`과 똑같은 값을 반환합니다.\n",
    "- `update`: 딕셔너리에 새로운 딕셔너리를 추가합니다.\n",
    "- `zip`: 튜플/리스트 두 개를 하나의 딕셔너리로 변환합니다."
   ]
  },
  {
   "cell_type": "markdown",
   "metadata": {
    "id": "MKv71cLf_6vz"
   },
   "source": [
    "### keys, values, items"
   ]
  },
  {
   "cell_type": "code",
   "execution_count": 11,
   "metadata": {
    "id": "frxOZucemT8r"
   },
   "outputs": [
    {
     "data": {
      "text/plain": [
       "{'name': ['merry', 'john'], 'num': [1, 2, 3], 'birth': ['jan', 'feb', 'nov']}"
      ]
     },
     "execution_count": 11,
     "metadata": {},
     "output_type": "execute_result"
    }
   ],
   "source": [
    "dic"
   ]
  },
  {
   "cell_type": "code",
   "execution_count": 12,
   "metadata": {
    "id": "HkCtOSJjnYyj"
   },
   "outputs": [
    {
     "name": "stdout",
     "output_type": "stream",
     "text": [
      "dict_keys(['name', 'num', 'birth'])\n",
      "dict_values([['merry', 'john'], [1, 2, 3], ['jan', 'feb', 'nov']])\n",
      "dict_items([('name', ['merry', 'john']), ('num', [1, 2, 3]), ('birth', ['jan', 'feb', 'nov'])])\n"
     ]
    }
   ],
   "source": [
    "print(dic.keys())\n",
    "print(dic.values())\n",
    "print(dic.items())"
   ]
  },
  {
   "cell_type": "code",
   "execution_count": 13,
   "metadata": {
    "id": "SZG-DlF9kujl"
   },
   "outputs": [
    {
     "data": {
      "text/plain": [
       "dict_items"
      ]
     },
     "execution_count": 13,
     "metadata": {},
     "output_type": "execute_result"
    }
   ],
   "source": [
    "type(dic.items())"
   ]
  },
  {
   "cell_type": "markdown",
   "metadata": {
    "id": "VtWu7gxcoGmW"
   },
   "source": [
    "- 결과를 리스트의 형태로 변환하고 싶으면 `list()`함수로 감싸줍니다."
   ]
  },
  {
   "cell_type": "code",
   "execution_count": 14,
   "metadata": {
    "id": "UIijcLyvnqVB"
   },
   "outputs": [
    {
     "name": "stdout",
     "output_type": "stream",
     "text": [
      "['name', 'num', 'birth']\n",
      "[['merry', 'john'], [1, 2, 3], ['jan', 'feb', 'nov']]\n",
      "[('name', ['merry', 'john']), ('num', [1, 2, 3]), ('birth', ['jan', 'feb', 'nov'])]\n"
     ]
    }
   ],
   "source": [
    "print(list(dic.keys()))\n",
    "print(list(dic.values()))\n",
    "print(list(dic.items()))"
   ]
  },
  {
   "cell_type": "markdown",
   "metadata": {
    "id": "NI9pv_3moWyb"
   },
   "source": [
    "- 딕셔너리 함수들은 뒤에서 배울 반복문을 같이 자주 씁니다."
   ]
  },
  {
   "cell_type": "code",
   "execution_count": 15,
   "metadata": {
    "id": "49I6nOq9oRO2"
   },
   "outputs": [
    {
     "name": "stdout",
     "output_type": "stream",
     "text": [
      "키:  name\n",
      "값:  ['merry', 'john']\n",
      "키:  num\n",
      "값:  [1, 2, 3]\n",
      "키:  birth\n",
      "값:  ['jan', 'feb', 'nov']\n"
     ]
    }
   ],
   "source": [
    "for k, v in dic.items():\n",
    "    print('키: ', k)\n",
    "    print('값: ', v)"
   ]
  },
  {
   "cell_type": "markdown",
   "metadata": {
    "id": "LRZiikDb__Ey"
   },
   "source": [
    "### `get`"
   ]
  },
  {
   "cell_type": "code",
   "execution_count": 16,
   "metadata": {
    "id": "Y8VUbsl__pZe"
   },
   "outputs": [
    {
     "data": {
      "text/plain": [
       "['merry', 'john']"
      ]
     },
     "execution_count": 16,
     "metadata": {},
     "output_type": "execute_result"
    }
   ],
   "source": [
    "dic.get('name')"
   ]
  },
  {
   "cell_type": "code",
   "execution_count": 17,
   "metadata": {
    "id": "wtKuNRYwlIJL"
   },
   "outputs": [
    {
     "data": {
      "text/plain": [
       "['merry', 'john']"
      ]
     },
     "execution_count": 17,
     "metadata": {},
     "output_type": "execute_result"
    }
   ],
   "source": [
    "dic['name']"
   ]
  },
  {
   "cell_type": "markdown",
   "metadata": {
    "id": "9EOtY9v0AD5z"
   },
   "source": [
    "### `update`"
   ]
  },
  {
   "cell_type": "code",
   "execution_count": 18,
   "metadata": {
    "id": "tZRmgj0_AESC"
   },
   "outputs": [],
   "source": [
    "dic1 = {'a':[1,2], 'b':3, 'c':[4,5,6]}\n",
    "dic2 = {'d':10, 'e':[102,101]}\n",
    "dic1.update(dic2)"
   ]
  },
  {
   "cell_type": "code",
   "execution_count": 19,
   "metadata": {
    "id": "vw65ONVmAX3f"
   },
   "outputs": [
    {
     "data": {
      "text/plain": [
       "{'a': [1, 2], 'b': 3, 'c': [4, 5, 6], 'd': 10, 'e': [102, 101]}"
      ]
     },
     "execution_count": 19,
     "metadata": {},
     "output_type": "execute_result"
    }
   ],
   "source": [
    "dic1"
   ]
  },
  {
   "cell_type": "markdown",
   "metadata": {
    "id": "xhG_wLMFAZNO"
   },
   "source": [
    "### `zip`"
   ]
  },
  {
   "cell_type": "code",
   "execution_count": 20,
   "metadata": {
    "id": "SI5w1HhjAZqC"
   },
   "outputs": [
    {
     "name": "stdout",
     "output_type": "stream",
     "text": [
      "{'a': 1, 'b': 2}\n"
     ]
    }
   ],
   "source": [
    "keys = (\"a\", \"b\")\n",
    "values = (1,2)\n",
    "result = dict(zip(keys, values))\n",
    "print(result)"
   ]
  },
  {
   "cell_type": "code",
   "execution_count": 21,
   "metadata": {
    "id": "7_PJv5_UAtHh"
   },
   "outputs": [
    {
     "name": "stdout",
     "output_type": "stream",
     "text": [
      "{'a': 1, 'b': 2}\n"
     ]
    }
   ],
   "source": [
    "keys = [\"a\", \"b\"]\n",
    "values = [1,2]\n",
    "result = dict(zip(keys, values))\n",
    "print(result)"
   ]
  },
  {
   "cell_type": "code",
   "execution_count": 22,
   "metadata": {
    "id": "tXIAVx1MAzxf"
   },
   "outputs": [
    {
     "name": "stdout",
     "output_type": "stream",
     "text": [
      "{'a': 1, 'b': 2}\n"
     ]
    }
   ],
   "source": [
    "keys = [\"a\", \"b\",\"c\"]\n",
    "values = [1,2]\n",
    "result = dict(zip(keys, values))\n",
    "print(result)"
   ]
  },
  {
   "cell_type": "markdown",
   "metadata": {
    "id": "0VWUYS4fosvN"
   },
   "source": [
    "## **[5] 데이터셋과 대응**\n",
    "- 각 키들의 값의 길이가 같다면, Part2에서 배울 dataframe이라는 데이터셋의 형식과 대응될 수 있습니다."
   ]
  },
  {
   "cell_type": "code",
   "execution_count": 23,
   "metadata": {
    "id": "FXNd1cd_ol9l"
   },
   "outputs": [
    {
     "data": {
      "text/plain": [
       "{'name': ['merry', 'john', 'kevin'],\n",
       " 'num': [1, 2, 3],\n",
       " 'birth': ['jan', 'feb', 'nov']}"
      ]
     },
     "execution_count": 23,
     "metadata": {},
     "output_type": "execute_result"
    }
   ],
   "source": [
    "dic = {'name':['merry','john','kevin'],\\\n",
    "      'num':[1,2,3],\\\n",
    "      'birth':['jan','feb','nov']}\n",
    "dic"
   ]
  },
  {
   "cell_type": "code",
   "execution_count": 24,
   "metadata": {
    "id": "UfzYHB9so_3J"
   },
   "outputs": [
    {
     "data": {
      "text/html": [
       "<div>\n",
       "<style scoped>\n",
       "    .dataframe tbody tr th:only-of-type {\n",
       "        vertical-align: middle;\n",
       "    }\n",
       "\n",
       "    .dataframe tbody tr th {\n",
       "        vertical-align: top;\n",
       "    }\n",
       "\n",
       "    .dataframe thead th {\n",
       "        text-align: right;\n",
       "    }\n",
       "</style>\n",
       "<table border=\"1\" class=\"dataframe\">\n",
       "  <thead>\n",
       "    <tr style=\"text-align: right;\">\n",
       "      <th></th>\n",
       "      <th>name</th>\n",
       "      <th>num</th>\n",
       "      <th>birth</th>\n",
       "    </tr>\n",
       "  </thead>\n",
       "  <tbody>\n",
       "    <tr>\n",
       "      <th>0</th>\n",
       "      <td>merry</td>\n",
       "      <td>1</td>\n",
       "      <td>jan</td>\n",
       "    </tr>\n",
       "    <tr>\n",
       "      <th>1</th>\n",
       "      <td>john</td>\n",
       "      <td>2</td>\n",
       "      <td>feb</td>\n",
       "    </tr>\n",
       "    <tr>\n",
       "      <th>2</th>\n",
       "      <td>kevin</td>\n",
       "      <td>3</td>\n",
       "      <td>nov</td>\n",
       "    </tr>\n",
       "  </tbody>\n",
       "</table>\n",
       "</div>"
      ],
      "text/plain": [
       "    name  num birth\n",
       "0  merry    1   jan\n",
       "1   john    2   feb\n",
       "2  kevin    3   nov"
      ]
     },
     "execution_count": 24,
     "metadata": {},
     "output_type": "execute_result"
    }
   ],
   "source": [
    "import pandas as pd\n",
    "df = pd.DataFrame(dic)\n",
    "df"
   ]
  },
  {
   "cell_type": "code",
   "execution_count": null,
   "metadata": {
    "id": "OzFcRThLpS-Q"
   },
   "outputs": [],
   "source": []
  }
 ],
 "metadata": {
  "colab": {
   "provenance": []
  },
  "kernelspec": {
   "display_name": "Python 3 (ipykernel)",
   "language": "python",
   "name": "python3"
  },
  "language_info": {
   "codemirror_mode": {
    "name": "ipython",
    "version": 3
   },
   "file_extension": ".py",
   "mimetype": "text/x-python",
   "name": "python",
   "nbconvert_exporter": "python",
   "pygments_lexer": "ipython3",
   "version": "3.11.5"
  }
 },
 "nbformat": 4,
 "nbformat_minor": 1
}
