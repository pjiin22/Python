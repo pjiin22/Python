{
 "cells": [
  {
   "cell_type": "markdown",
   "metadata": {
    "id": "2fqRBJZeuTL9"
   },
   "source": [
    "## **[1] 숫자형이란?**\n",
    "- 숫자 형태로 이루어진 자료형\n",
    "\n",
    "|항목|Python 표현 예시|\n",
    "|:---------|:---|\n",
    "|정수형 (int)|123, -123, 0|\n",
    "|실수형 (float)|100.5, -100.5, 10e3, 10e5|"
   ]
  },
  {
   "cell_type": "markdown",
   "metadata": {
    "id": "M4TqI5igtZop"
   },
   "source": [
    "- 정수형"
   ]
  },
  {
   "cell_type": "code",
   "execution_count": 1,
   "metadata": {
    "id": "q73oc099rcro"
   },
   "outputs": [
    {
     "name": "stdout",
     "output_type": "stream",
     "text": [
      "123\n",
      "<class 'int'>\n"
     ]
    }
   ],
   "source": [
    "a = 123\n",
    "print(a)\n",
    "print(type(a))"
   ]
  },
  {
   "cell_type": "code",
   "execution_count": 2,
   "metadata": {
    "id": "qwrTGUTEse6u"
   },
   "outputs": [
    {
     "name": "stdout",
     "output_type": "stream",
     "text": [
      "-123\n",
      "<class 'int'>\n"
     ]
    }
   ],
   "source": [
    "b = -123\n",
    "print(b)\n",
    "print(type(b))"
   ]
  },
  {
   "cell_type": "markdown",
   "metadata": {
    "id": "sairQWwZt1RP"
   },
   "source": [
    "- 실수형"
   ]
  },
  {
   "cell_type": "code",
   "execution_count": 3,
   "metadata": {
    "id": "-0C2G_SYtw1W"
   },
   "outputs": [
    {
     "name": "stdout",
     "output_type": "stream",
     "text": [
      "1.2\n",
      "<class 'float'>\n"
     ]
    }
   ],
   "source": [
    "a = 1.2\n",
    "print(a)\n",
    "print(type(a))"
   ]
  },
  {
   "cell_type": "code",
   "execution_count": 4,
   "metadata": {
    "id": "MF7bdsy1t-mo"
   },
   "outputs": [
    {
     "name": "stdout",
     "output_type": "stream",
     "text": [
      "10000.0\n",
      "<class 'float'>\n"
     ]
    }
   ],
   "source": [
    "b = 10e3\n",
    "print(b)\n",
    "print(type(b))"
   ]
  },
  {
   "cell_type": "markdown",
   "metadata": {
    "id": "BPd1SrX4uKdU"
   },
   "source": [
    "## **[2] 사칙연산**"
   ]
  },
  {
   "cell_type": "code",
   "execution_count": 5,
   "metadata": {
    "id": "WoJ3-PyeuB4s"
   },
   "outputs": [
    {
     "name": "stdout",
     "output_type": "stream",
     "text": [
      "7\n",
      "-1\n",
      "12\n",
      "0.75\n"
     ]
    }
   ],
   "source": [
    "a = 3\n",
    "b = 4\n",
    "print(a + b)\n",
    "print(a - b)\n",
    "print(a * b)\n",
    "print(a / b)"
   ]
  },
  {
   "cell_type": "markdown",
   "metadata": {
    "id": "qrddg_ZdvKmk"
   },
   "source": [
    "## **[3] 다른 연산**"
   ]
  },
  {
   "cell_type": "code",
   "execution_count": 6,
   "metadata": {
    "id": "abFRxz7hvSEu"
   },
   "outputs": [
    {
     "name": "stdout",
     "output_type": "stream",
     "text": [
      "81\n",
      "3\n",
      "0\n"
     ]
    }
   ],
   "source": [
    "print(a ** b) #제곱\n",
    "print(a % b) #나눗셈 후 나머지\n",
    "print(a // b) #나눗셈 후 몫"
   ]
  },
  {
   "cell_type": "code",
   "execution_count": 7,
   "metadata": {
    "id": "_hm_YueL0j18"
   },
   "outputs": [
    {
     "data": {
      "text/plain": [
       "False"
      ]
     },
     "execution_count": 7,
     "metadata": {},
     "output_type": "execute_result"
    }
   ],
   "source": [
    "a == b"
   ]
  },
  {
   "cell_type": "code",
   "execution_count": 8,
   "metadata": {
    "id": "DJZTWTnk0npU"
   },
   "outputs": [
    {
     "data": {
      "text/plain": [
       "True"
      ]
     },
     "execution_count": 8,
     "metadata": {},
     "output_type": "execute_result"
    }
   ],
   "source": [
    "(a + 1) == b"
   ]
  },
  {
   "cell_type": "markdown",
   "metadata": {
    "id": "Ct0E7djTujai"
   },
   "source": [
    "## **[4] 할당연산**"
   ]
  },
  {
   "cell_type": "markdown",
   "metadata": {
    "id": "O39lQlWIuYxj"
   },
   "source": [
    "- 변수 a는 10의 값을 가질 때, 변수 a에 1을 더해서 a에 덮어씌우려면?"
   ]
  },
  {
   "cell_type": "code",
   "execution_count": 9,
   "metadata": {
    "id": "sEl-pNsZuugd"
   },
   "outputs": [
    {
     "name": "stdout",
     "output_type": "stream",
     "text": [
      "10\n",
      "11\n"
     ]
    }
   ],
   "source": [
    "a = 10\n",
    "print(a)\n",
    "a = a + 1\n",
    "print(a)"
   ]
  },
  {
   "cell_type": "code",
   "execution_count": 10,
   "metadata": {
    "id": "1zShvYRnu6dx"
   },
   "outputs": [
    {
     "name": "stdout",
     "output_type": "stream",
     "text": [
      "10\n",
      "11\n"
     ]
    }
   ],
   "source": [
    "a = 10\n",
    "print(a)\n",
    "a += 1\n",
    "print(a)"
   ]
  },
  {
   "cell_type": "markdown",
   "metadata": {
    "id": "TziBst9RvBF4"
   },
   "source": [
    "- 다른 사칙연산도 마찬가지로 계산할 수 있습니다."
   ]
  },
  {
   "cell_type": "code",
   "execution_count": 11,
   "metadata": {
    "id": "QYUhKWm8u-_1"
   },
   "outputs": [
    {
     "name": "stdout",
     "output_type": "stream",
     "text": [
      "10\n",
      "11\n",
      "10\n",
      "20\n",
      "10.0\n"
     ]
    }
   ],
   "source": [
    "a = 10\n",
    "print(a)\n",
    "a += 1\n",
    "print(a)\n",
    "a -= 1\n",
    "print(a)\n",
    "a *= 2\n",
    "print(a)\n",
    "a /= 2\n",
    "print(a)"
   ]
  },
  {
   "cell_type": "markdown",
   "metadata": {
    "id": "Kyst9a42wZdA"
   },
   "source": [
    "## **[5] 연습문제**"
   ]
  },
  {
   "cell_type": "markdown",
   "metadata": {
    "id": "e1I_0VAvwhEN"
   },
   "source": [
    "### 1. 과일 가게의 총 매출을 구해보세요.\n",
    "\n",
    "|품목|가격|\n",
    "|:---------|:---|\n",
    "|바나나|1000원|\n",
    "|사과|500원|\n",
    "|체리|5000원|\n",
    "&nbsp;\n",
    "\n",
    "|고객|품목|판매수량|\n",
    "|:---------|:---|:---|\n",
    "|A|사과|2\n",
    "|A|체리|3\n",
    "|B|사과|4\n",
    "|C|바나나|1\n",
    "|C|사과|2\n",
    "|C|체리|1"
   ]
  },
  {
   "cell_type": "code",
   "execution_count": 12,
   "metadata": {
    "id": "HdoFITbIEO6Y"
   },
   "outputs": [
    {
     "data": {
      "text/plain": [
       "25000"
      ]
     },
     "execution_count": 12,
     "metadata": {},
     "output_type": "execute_result"
    }
   ],
   "source": [
    "1000 * 1 + 500 * (2 + 4 + 2) + 5000 * (3 + 1)"
   ]
  },
  {
   "cell_type": "markdown",
   "metadata": {
    "id": "0hrp6J7Wy-5o"
   },
   "source": [
    "### 2. 객단가(고객 1명당 평균 매출)를 구해보세요."
   ]
  },
  {
   "cell_type": "code",
   "execution_count": 14,
   "metadata": {
    "id": "WTHbnJKxEmHM"
   },
   "outputs": [
    {
     "data": {
      "text/plain": [
       "8333"
      ]
     },
     "execution_count": 14,
     "metadata": {},
     "output_type": "execute_result"
    }
   ],
   "source": [
    "25000 // 3 "
   ]
  },
  {
   "cell_type": "markdown",
   "metadata": {
    "id": "8QvfxlzAz8K2"
   },
   "source": [
    "### 3. 자연수 21이 홀수인지 짝수인지 판별하는 코드를 작성해보세요."
   ]
  },
  {
   "cell_type": "code",
   "execution_count": 16,
   "metadata": {
    "id": "6juaa6NUEwCc"
   },
   "outputs": [
    {
     "name": "stdout",
     "output_type": "stream",
     "text": [
      "짝수\n"
     ]
    }
   ],
   "source": [
    "if 21 & 2 == 0:\n",
    "    print(\"짝수\")\n",
    "else:\n",
    "    print(\"홀수\")"
   ]
  },
  {
   "cell_type": "code",
   "execution_count": null,
   "metadata": {
    "id": "57ouOUrsFH9z"
   },
   "outputs": [],
   "source": []
  }
 ],
 "metadata": {
  "colab": {
   "provenance": []
  },
  "kernelspec": {
   "display_name": "Python 3 (ipykernel)",
   "language": "python",
   "name": "python3"
  },
  "language_info": {
   "codemirror_mode": {
    "name": "ipython",
    "version": 3
   },
   "file_extension": ".py",
   "mimetype": "text/x-python",
   "name": "python",
   "nbconvert_exporter": "python",
   "pygments_lexer": "ipython3",
   "version": "3.11.5"
  }
 },
 "nbformat": 4,
 "nbformat_minor": 1
}
