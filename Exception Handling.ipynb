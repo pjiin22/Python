{
 "cells": [
  {
   "cell_type": "markdown",
   "metadata": {
    "id": "-FqpPrRS4y6Y"
   },
   "source": [
    "## **[1] 예외처리란?**\n",
    "- 오류를 처리하는 방법입니다.\n",
    "\n",
    "\n",
    "    try: #try문을 실행하고\n",
    "        ...\n",
    "    except 발생오류 as 오류변수: #만약 에러가 나면 수행문을 실행하라.\n",
    "        ..."
   ]
  },
  {
   "cell_type": "markdown",
   "metadata": {
    "id": "IFbnyeaM5TcX"
   },
   "source": [
    "- 10 / 0을 하면 파이썬에서 어떻게 처리할까요?\n",
    " - ZeroDivisionError가 납니다."
   ]
  },
  {
   "cell_type": "code",
   "execution_count": 1,
   "metadata": {
    "id": "tNkauuLL4sLU"
   },
   "outputs": [
    {
     "ename": "ZeroDivisionError",
     "evalue": "division by zero",
     "output_type": "error",
     "traceback": [
      "\u001b[1;31m---------------------------------------------------------------------------\u001b[0m",
      "\u001b[1;31mZeroDivisionError\u001b[0m                         Traceback (most recent call last)",
      "Cell \u001b[1;32mIn[1], line 1\u001b[0m\n\u001b[1;32m----> 1\u001b[0m \u001b[38;5;241m10\u001b[39m \u001b[38;5;241m/\u001b[39m \u001b[38;5;241m0\u001b[39m\n",
      "\u001b[1;31mZeroDivisionError\u001b[0m: division by zero"
     ]
    }
   ],
   "source": [
    "10 / 0\n",
    "# a를 try하면 오류(ZeroDivisionError : 클래스)임. \n",
    "# 오류명과 동일한 오류 발생 그래서 e에 오류 정보 저장 = 특정 문제가 발생하면 그걸 e라고 부를께\n",
    "# 문제(e)를 출력할게 근데 zeroDivisionError의 오류메세지는  division by zero임"
   ]
  },
  {
   "cell_type": "markdown",
   "metadata": {
    "id": "DtcnZQUT5hY6"
   },
   "source": [
    "- `try except` 문을 써서 오류 시에 해당 오류 내용을 출력하도록 해봅시다."
   ]
  },
  {
   "cell_type": "code",
   "execution_count": 9,
   "metadata": {
    "id": "tjuc26Nw5alN"
   },
   "outputs": [
    {
     "name": "stdout",
     "output_type": "stream",
     "text": [
      "division by zero\n"
     ]
    }
   ],
   "source": [
    "try:\n",
    "    a = 10 / 0\n",
    "except ZeroDivisionError as e:\n",
    "    print(e)"
   ]
  },
  {
   "cell_type": "markdown",
   "metadata": {
    "id": "3IbnowUP59cP"
   },
   "source": [
    "- `ZeroDivisionError`가 날 때 0이 되도록 해봅시다."
   ]
  },
  {
   "cell_type": "code",
   "execution_count": 12,
   "metadata": {
    "id": "KTgoyL_E5xl5"
   },
   "outputs": [],
   "source": [
    "try:\n",
    "    a = 10 / 0\n",
    "except ZeroDivisionError:\n",
    "    a = 0"
   ]
  },
  {
   "cell_type": "code",
   "execution_count": 14,
   "metadata": {
    "id": "Qs0VvIXL6Qi5"
   },
   "outputs": [
    {
     "data": {
      "text/plain": [
       "0"
      ]
     },
     "execution_count": 14,
     "metadata": {},
     "output_type": "execute_result"
    }
   ],
   "source": [
    "a"
   ]
  },
  {
   "cell_type": "markdown",
   "metadata": {
    "id": "SPYn2obb6eZ6"
   },
   "source": [
    "- `ZeroDivisionError`가 날 때 오류 없이 코드를 넘어가도록 해봅시다."
   ]
  },
  {
   "cell_type": "code",
   "execution_count": 17,
   "metadata": {
    "id": "8N2IpRJC6dYj"
   },
   "outputs": [],
   "source": [
    "try:\n",
    "    b = 10 / 0\n",
    "except ZeroDivisionError:\n",
    "    pass"
   ]
  },
  {
   "cell_type": "code",
   "execution_count": 19,
   "metadata": {
    "id": "qNSx_pQ_62Ee"
   },
   "outputs": [
    {
     "data": {
      "text/plain": [
       "6"
      ]
     },
     "execution_count": 19,
     "metadata": {},
     "output_type": "execute_result"
    }
   ],
   "source": [
    "b"
   ]
  },
  {
   "cell_type": "markdown",
   "metadata": {
    "id": "nsD0I9mn6_Ak"
   },
   "source": [
    "- 발생오류를 명시하지 않으면, 모든 오류에 대해 `except`문을 처리합니다."
   ]
  },
  {
   "cell_type": "code",
   "execution_count": 22,
   "metadata": {
    "id": "wqYbAkdT7Odh"
   },
   "outputs": [
    {
     "name": "stdout",
     "output_type": "stream",
     "text": [
      "오류\n"
     ]
    }
   ],
   "source": [
    "a = [1,2,3,4,5]\n",
    "b = 6\n",
    "\n",
    "try:\n",
    "    print(a.index(b))\n",
    "except:\n",
    "    print('오류')"
   ]
  },
  {
   "cell_type": "markdown",
   "metadata": {
    "id": "2B7HABdJ7js_"
   },
   "source": [
    "- 오류명을 모를 때 `Exception`으로 오류명을 출력할 수 있습니다."
   ]
  },
  {
   "cell_type": "code",
   "execution_count": 25,
   "metadata": {
    "id": "ZAaM-flt7jK4"
   },
   "outputs": [
    {
     "name": "stdout",
     "output_type": "stream",
     "text": [
      "6 is not in list\n"
     ]
    }
   ],
   "source": [
    "try:\n",
    "    print(a.index(b))\n",
    "except Exception as e:\n",
    "    print(e)"
   ]
  },
  {
   "cell_type": "code",
   "execution_count": 27,
   "metadata": {
    "id": "PyLTAKew9fPv"
   },
   "outputs": [
    {
     "ename": "ValueError",
     "evalue": "6 is not in list",
     "output_type": "error",
     "traceback": [
      "\u001b[1;31m---------------------------------------------------------------------------\u001b[0m",
      "\u001b[1;31mValueError\u001b[0m                                Traceback (most recent call last)",
      "Cell \u001b[1;32mIn[27], line 3\u001b[0m\n\u001b[0;32m      1\u001b[0m a \u001b[38;5;241m=\u001b[39m [\u001b[38;5;241m1\u001b[39m,\u001b[38;5;241m2\u001b[39m,\u001b[38;5;241m3\u001b[39m,\u001b[38;5;241m4\u001b[39m,\u001b[38;5;241m5\u001b[39m]\n\u001b[0;32m      2\u001b[0m b \u001b[38;5;241m=\u001b[39m \u001b[38;5;241m6\u001b[39m\n\u001b[1;32m----> 3\u001b[0m a\u001b[38;5;241m.\u001b[39mindex(b)\n",
      "\u001b[1;31mValueError\u001b[0m: 6 is not in list"
     ]
    }
   ],
   "source": [
    "a = [1,2,3,4,5]\n",
    "b = 6\n",
    "a.index(b)\n",
    "# try가 오류가 발생하면 e라고 부를께 \n",
    "# 이런 오류는 valueerror로 고정이야. 이때의 오류 메세지는 특정값 is not in list"
   ]
  },
  {
   "cell_type": "markdown",
   "metadata": {
    "id": "-tgjU8MS66ya"
   },
   "source": [
    "## **[2] `else`와 `finally`**\n",
    "\n",
    "    try:\n",
    "        ...\n",
    "    except 발생오류 as 오류변수:\n",
    "        ...\n",
    "    else: #오류가 없을 때만 수행됩니다.\n",
    "        ...\n",
    "&nbsp;\n",
    "\n",
    "    try:\n",
    "        ...\n",
    "    finally: #오류가 나더라도 수행됩니다.\n",
    "        ..."
   ]
  },
  {
   "cell_type": "code",
   "execution_count": 30,
   "metadata": {
    "id": "V4ATzRXB62c6"
   },
   "outputs": [
    {
     "name": "stdin",
     "output_type": "stream",
     "text": [
      "정수를 입력해주세요.  5\n"
     ]
    },
    {
     "name": "stdout",
     "output_type": "stream",
     "text": [
      "6\n"
     ]
    }
   ],
   "source": [
    "try:\n",
    "    a = int(input('정수를 입력해주세요. '))\n",
    "except Exception as e:\n",
    "    print(e)\n",
    "else:\n",
    "    print(int(a) + 1)"
   ]
  },
  {
   "cell_type": "code",
   "execution_count": 32,
   "metadata": {
    "id": "2FwSPxvb-oCq"
   },
   "outputs": [
    {
     "name": "stdin",
     "output_type": "stream",
     "text": [
      "정수를 입력해주세요.  5\n"
     ]
    },
    {
     "name": "stdout",
     "output_type": "stream",
     "text": [
      "6\n"
     ]
    }
   ],
   "source": [
    "try:\n",
    "    a = int(input('정수를 입력해주세요. '))\n",
    "except Exception as e:\n",
    "    print(e)\n",
    "else:\n",
    "    print(int(a) + 1)"
   ]
  },
  {
   "cell_type": "code",
   "execution_count": 34,
   "metadata": {
    "id": "x7XrQd3Q-alS"
   },
   "outputs": [
    {
     "name": "stdin",
     "output_type": "stream",
     "text": [
      "정수를 입력해주세요.  5\n"
     ]
    },
    {
     "name": "stdout",
     "output_type": "stream",
     "text": [
      "6\n"
     ]
    }
   ],
   "source": [
    "try:\n",
    "    a = input('정수를 입력해주세요. ')\n",
    "except Exception as e:\n",
    "    print(e)\n",
    "else:\n",
    "    print(int(a) + 1)"
   ]
  },
  {
   "cell_type": "code",
   "execution_count": 36,
   "metadata": {
    "id": "aD7TKjbT-fYb"
   },
   "outputs": [
    {
     "name": "stdout",
     "output_type": "stream",
     "text": [
      "종료\n"
     ]
    },
    {
     "ename": "ZeroDivisionError",
     "evalue": "division by zero",
     "output_type": "error",
     "traceback": [
      "\u001b[1;31m---------------------------------------------------------------------------\u001b[0m",
      "\u001b[1;31mZeroDivisionError\u001b[0m                         Traceback (most recent call last)",
      "Cell \u001b[1;32mIn[36], line 3\u001b[0m\n\u001b[0;32m      1\u001b[0m \u001b[38;5;28;01mtry\u001b[39;00m:\n\u001b[0;32m      2\u001b[0m     a \u001b[38;5;241m=\u001b[39m \u001b[38;5;241m1\u001b[39m\n\u001b[1;32m----> 3\u001b[0m     b \u001b[38;5;241m=\u001b[39m a\u001b[38;5;241m/\u001b[39m\u001b[38;5;241m0\u001b[39m\n\u001b[0;32m      4\u001b[0m \u001b[38;5;28;01mfinally\u001b[39;00m:\n\u001b[0;32m      5\u001b[0m     \u001b[38;5;28mprint\u001b[39m(\u001b[38;5;124m'\u001b[39m\u001b[38;5;124m종료\u001b[39m\u001b[38;5;124m'\u001b[39m)\n",
      "\u001b[1;31mZeroDivisionError\u001b[0m: division by zero"
     ]
    }
   ],
   "source": [
    "try:\n",
    "    a = 1\n",
    "    b = a/0 #오류\n",
    "finally:\n",
    "    print('종료')"
   ]
  },
  {
   "cell_type": "code",
   "execution_count": 38,
   "metadata": {
    "id": "foF7tttwIgR5"
   },
   "outputs": [
    {
     "name": "stdin",
     "output_type": "stream",
     "text": [
      "정수를 입력해주세요.  5\n"
     ]
    },
    {
     "name": "stdout",
     "output_type": "stream",
     "text": [
      "6\n",
      "종료\n"
     ]
    }
   ],
   "source": [
    "try:\n",
    "    a = input('정수를 입력해주세요. ')\n",
    "except Exception as e:\n",
    "    print(e)\n",
    "else:\n",
    "    print(int(a) + 1)\n",
    "finally:\n",
    "    print('종료')"
   ]
  },
  {
   "cell_type": "code",
   "execution_count": null,
   "metadata": {
    "id": "ecq0wHi9KaTD"
   },
   "outputs": [],
   "source": []
  }
 ],
 "metadata": {
  "colab": {
   "provenance": []
  },
  "kernelspec": {
   "display_name": "Python 3 (ipykernel)",
   "language": "python",
   "name": "python3"
  },
  "language_info": {
   "codemirror_mode": {
    "name": "ipython",
    "version": 3
   },
   "file_extension": ".py",
   "mimetype": "text/x-python",
   "name": "python",
   "nbconvert_exporter": "python",
   "pygments_lexer": "ipython3",
   "version": "3.12.4"
  }
 },
 "nbformat": 4,
 "nbformat_minor": 4
}
