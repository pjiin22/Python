{
 "cells": [
  {
   "cell_type": "markdown",
   "metadata": {
    "id": "iWvpKNJLzQSx"
   },
   "source": [
    "## **[1] 튜플이란?**\n",
    "- 리스트와 비슷하게 여러 요소들을 묶을 수 있습니다.\n",
    "- 다만 튜플의 요소는 수정이나 삭제가 불가능합니다.\n",
    "- 프로그램 실행 중 절대 변하지 않거나 변해서는 안되는 값들이 있다면 튜플로 저장하는 것이 좋습니다.\n",
    "- 요소들을 괄호(`()`)로 감싸주면 튜플이 됩니다."
   ]
  },
  {
   "cell_type": "code",
   "execution_count": 1,
   "metadata": {
    "id": "mBSJSryRyqBD"
   },
   "outputs": [
    {
     "name": "stdout",
     "output_type": "stream",
     "text": [
      "(1, 2, 3, 4, 5) <class 'tuple'>\n",
      "('life', 'is', 'too', 'short') <class 'tuple'>\n",
      "(1, 2, 'life', 'is') <class 'tuple'>\n",
      "(1, 2, ['life', 'is', ('too', 'short')]) <class 'tuple'>\n"
     ]
    }
   ],
   "source": [
    "a = (1,2,3,4,5)\n",
    "b = ('life','is','too','short')\n",
    "c = (1,2,'life','is')\n",
    "d = (1,2,['life','is',('too','short')])\n",
    "\n",
    "print(a, type(a))\n",
    "print(b, type(b))\n",
    "print(c, type(c))\n",
    "print(d, type(d))"
   ]
  },
  {
   "cell_type": "markdown",
   "metadata": {
    "id": "HQI1pgCIDgYo"
   },
   "source": [
    "- 요소가 하나일 경우는 ,를 뒤에 붙여주어야 합니다."
   ]
  },
  {
   "cell_type": "code",
   "execution_count": 2,
   "metadata": {
    "id": "5E7ANOrqDjkC"
   },
   "outputs": [],
   "source": [
    "x = (3)"
   ]
  },
  {
   "cell_type": "code",
   "execution_count": 3,
   "metadata": {
    "id": "7STt3HoiDl87"
   },
   "outputs": [
    {
     "data": {
      "text/plain": [
       "int"
      ]
     },
     "execution_count": 3,
     "metadata": {},
     "output_type": "execute_result"
    }
   ],
   "source": [
    "type(x)"
   ]
  },
  {
   "cell_type": "code",
   "execution_count": 4,
   "metadata": {
    "id": "WNY9uNJ7DnuW"
   },
   "outputs": [],
   "source": [
    "x = (3,)"
   ]
  },
  {
   "cell_type": "code",
   "execution_count": 5,
   "metadata": {
    "id": "Py8f6JSQDntt"
   },
   "outputs": [
    {
     "data": {
      "text/plain": [
       "tuple"
      ]
     },
     "execution_count": 5,
     "metadata": {},
     "output_type": "execute_result"
    }
   ],
   "source": [
    "type(x)"
   ]
  },
  {
   "cell_type": "markdown",
   "metadata": {
    "id": "uNpt1PQeRe3y"
   },
   "source": [
    "## **[2] 인덱싱**\n",
    "- 리스트와 마찬가지로 인덱싱을 적용할 수 있습니다."
   ]
  },
  {
   "cell_type": "code",
   "execution_count": 6,
   "metadata": {
    "id": "j00Nc4Pi2mWW"
   },
   "outputs": [
    {
     "data": {
      "text/plain": [
       "(1, 2, 3, 4, 5)"
      ]
     },
     "execution_count": 6,
     "metadata": {},
     "output_type": "execute_result"
    }
   ],
   "source": [
    "a"
   ]
  },
  {
   "cell_type": "code",
   "execution_count": 7,
   "metadata": {
    "id": "3dd1rB4DQjs1"
   },
   "outputs": [
    {
     "name": "stdout",
     "output_type": "stream",
     "text": [
      "1\n",
      "6\n",
      "(4, 5)\n",
      "(2, 3, 4)\n"
     ]
    }
   ],
   "source": [
    "print(a[0])\n",
    "print(a[0]+a[4])\n",
    "print(a[3:])\n",
    "print(a[1:-1])"
   ]
  },
  {
   "cell_type": "code",
   "execution_count": 8,
   "metadata": {
    "id": "wxky6nze2yoU"
   },
   "outputs": [
    {
     "data": {
      "text/plain": [
       "(1, 2, ['life', 'is', ('too', 'short')])"
      ]
     },
     "execution_count": 8,
     "metadata": {},
     "output_type": "execute_result"
    }
   ],
   "source": [
    "d"
   ]
  },
  {
   "cell_type": "code",
   "execution_count": 9,
   "metadata": {
    "id": "5dsh5B3_R0Ki"
   },
   "outputs": [
    {
     "name": "stdout",
     "output_type": "stream",
     "text": [
      "['life', 'is', ('too', 'short')]\n",
      "('too', 'short')\n",
      "[('too', 'short')]\n",
      "short\n"
     ]
    }
   ],
   "source": [
    "print(d[2])\n",
    "print(d[2][2])\n",
    "print(d[-1][2:])\n",
    "print(d[-1][-1][-1])"
   ]
  },
  {
   "cell_type": "markdown",
   "metadata": {
    "id": "2VyFbkahSnFE"
   },
   "source": [
    "## **[3] 튜플 연산**\n",
    "- 리스트와 마찬가지로 더하기와 곱하기를 할 수 있습니다."
   ]
  },
  {
   "cell_type": "code",
   "execution_count": 10,
   "metadata": {
    "id": "AzpsduoER2AK"
   },
   "outputs": [
    {
     "data": {
      "text/plain": [
       "(1, 2, 3, 4, 5, 6)"
      ]
     },
     "execution_count": 10,
     "metadata": {},
     "output_type": "execute_result"
    }
   ],
   "source": [
    "a = (1,2,3)\n",
    "b = (4,5,6)\n",
    "a + b"
   ]
  },
  {
   "cell_type": "code",
   "execution_count": 11,
   "metadata": {
    "id": "rM6ZJtopTCw9"
   },
   "outputs": [
    {
     "data": {
      "text/plain": [
       "(1, 2, 3, 1, 2, 3, 1, 2, 3)"
      ]
     },
     "execution_count": 11,
     "metadata": {},
     "output_type": "execute_result"
    }
   ],
   "source": [
    "a * 3"
   ]
  },
  {
   "cell_type": "markdown",
   "metadata": {
    "id": "KKk2ViOkTx5S"
   },
   "source": [
    "- 튜플에 다른 자료형을 더하면 오류가 납니다."
   ]
  },
  {
   "cell_type": "code",
   "execution_count": 12,
   "metadata": {
    "id": "TwVW_vzgTDTw"
   },
   "outputs": [
    {
     "ename": "TypeError",
     "evalue": "can only concatenate tuple (not \"int\") to tuple",
     "output_type": "error",
     "traceback": [
      "\u001b[0;31m---------------------------------------------------------------------------\u001b[0m",
      "\u001b[0;31mTypeError\u001b[0m                                 Traceback (most recent call last)",
      "Cell \u001b[0;32mIn[12], line 1\u001b[0m\n\u001b[0;32m----> 1\u001b[0m a \u001b[38;5;241m+\u001b[39m \u001b[38;5;241m4\u001b[39m\n",
      "\u001b[0;31mTypeError\u001b[0m: can only concatenate tuple (not \"int\") to tuple"
     ]
    }
   ],
   "source": [
    "a + 4"
   ]
  },
  {
   "cell_type": "code",
   "execution_count": null,
   "metadata": {
    "id": "rcenxDDMT21J"
   },
   "outputs": [],
   "source": [
    "a + [4]"
   ]
  },
  {
   "cell_type": "code",
   "execution_count": 13,
   "metadata": {
    "id": "rr6RmZw8Da2L"
   },
   "outputs": [
    {
     "ename": "TypeError",
     "evalue": "can only concatenate tuple (not \"int\") to tuple",
     "output_type": "error",
     "traceback": [
      "\u001b[0;31m---------------------------------------------------------------------------\u001b[0m",
      "\u001b[0;31mTypeError\u001b[0m                                 Traceback (most recent call last)",
      "Cell \u001b[0;32mIn[13], line 1\u001b[0m\n\u001b[0;32m----> 1\u001b[0m a \u001b[38;5;241m+\u001b[39m (\u001b[38;5;241m3\u001b[39m)\n",
      "\u001b[0;31mTypeError\u001b[0m: can only concatenate tuple (not \"int\") to tuple"
     ]
    }
   ],
   "source": [
    "a + (3)"
   ]
  },
  {
   "cell_type": "code",
   "execution_count": 14,
   "metadata": {
    "id": "on3q3fqgDcQ5"
   },
   "outputs": [
    {
     "data": {
      "text/plain": [
       "(1, 2, 3, 3)"
      ]
     },
     "execution_count": 14,
     "metadata": {},
     "output_type": "execute_result"
    }
   ],
   "source": [
    "a + (3,)"
   ]
  },
  {
   "cell_type": "markdown",
   "metadata": {
    "id": "QymQHXl-ECi1"
   },
   "source": [
    "## **[4] 튜플 값 치환?**\n",
    "- 튜플의 요소는 수정하거나 삭제할 수 없으므로 불가능합니다."
   ]
  },
  {
   "cell_type": "code",
   "execution_count": 15,
   "metadata": {
    "id": "7G6RwO_JDsKX"
   },
   "outputs": [
    {
     "name": "stdout",
     "output_type": "stream",
     "text": [
      "[0, 2, 3, 4, 5]\n"
     ]
    }
   ],
   "source": [
    "a = [1,2,3,4,5]\n",
    "a[0] = 0\n",
    "print(a)"
   ]
  },
  {
   "cell_type": "code",
   "execution_count": 16,
   "metadata": {
    "id": "JkCCv_DBENG6"
   },
   "outputs": [
    {
     "ename": "TypeError",
     "evalue": "'tuple' object does not support item assignment",
     "output_type": "error",
     "traceback": [
      "\u001b[0;31m---------------------------------------------------------------------------\u001b[0m",
      "\u001b[0;31mTypeError\u001b[0m                                 Traceback (most recent call last)",
      "Cell \u001b[0;32mIn[16], line 2\u001b[0m\n\u001b[1;32m      1\u001b[0m a \u001b[38;5;241m=\u001b[39m (\u001b[38;5;241m1\u001b[39m,\u001b[38;5;241m2\u001b[39m,\u001b[38;5;241m3\u001b[39m,\u001b[38;5;241m4\u001b[39m,\u001b[38;5;241m5\u001b[39m)\n\u001b[0;32m----> 2\u001b[0m a[\u001b[38;5;241m0\u001b[39m] \u001b[38;5;241m=\u001b[39m \u001b[38;5;241m0\u001b[39m\n\u001b[1;32m      3\u001b[0m \u001b[38;5;28mprint\u001b[39m(a)\n",
      "\u001b[0;31mTypeError\u001b[0m: 'tuple' object does not support item assignment"
     ]
    }
   ],
   "source": [
    "a = (1,2,3,4,5)\n",
    "a[0] = 0\n",
    "print(a)"
   ]
  },
  {
   "cell_type": "markdown",
   "metadata": {
    "id": "q5fBsSAZE6Sv"
   },
   "source": [
    "- 따라서 리스트에서 사용하는 아래 함수들은 사용할 수 없습니다.\n",
    " - `append, insert, extend, remove, pop, sort, ...`"
   ]
  },
  {
   "cell_type": "code",
   "execution_count": 17,
   "metadata": {
    "id": "2uStfEIQEPM9"
   },
   "outputs": [
    {
     "ename": "AttributeError",
     "evalue": "'tuple' object has no attribute 'append'",
     "output_type": "error",
     "traceback": [
      "\u001b[0;31m---------------------------------------------------------------------------\u001b[0m",
      "\u001b[0;31mAttributeError\u001b[0m                            Traceback (most recent call last)",
      "Cell \u001b[0;32mIn[17], line 1\u001b[0m\n\u001b[0;32m----> 1\u001b[0m a\u001b[38;5;241m.\u001b[39mappend(\u001b[38;5;124m'\u001b[39m\u001b[38;5;124ma\u001b[39m\u001b[38;5;124m'\u001b[39m)\n",
      "\u001b[0;31mAttributeError\u001b[0m: 'tuple' object has no attribute 'append'"
     ]
    }
   ],
   "source": [
    "a.append('a')"
   ]
  },
  {
   "cell_type": "code",
   "execution_count": 18,
   "metadata": {
    "id": "t0pWuoCoFPqC"
   },
   "outputs": [
    {
     "ename": "AttributeError",
     "evalue": "'tuple' object has no attribute 'sort'",
     "output_type": "error",
     "traceback": [
      "\u001b[0;31m---------------------------------------------------------------------------\u001b[0m",
      "\u001b[0;31mAttributeError\u001b[0m                            Traceback (most recent call last)",
      "Cell \u001b[0;32mIn[18], line 1\u001b[0m\n\u001b[0;32m----> 1\u001b[0m a\u001b[38;5;241m.\u001b[39msort()\n",
      "\u001b[0;31mAttributeError\u001b[0m: 'tuple' object has no attribute 'sort'"
     ]
    }
   ],
   "source": [
    "a.sort()"
   ]
  },
  {
   "cell_type": "markdown",
   "metadata": {
    "id": "KqUhf9o5FW9Q"
   },
   "source": [
    "- 다만 sorted는 튜플을 리스트로 변환하여 정렬해 출력합니다."
   ]
  },
  {
   "cell_type": "code",
   "execution_count": 19,
   "metadata": {
    "id": "ErU6M2h3FNyM"
   },
   "outputs": [
    {
     "data": {
      "text/plain": [
       "[1, 2, 3, 4, 5]"
      ]
     },
     "execution_count": 19,
     "metadata": {},
     "output_type": "execute_result"
    }
   ],
   "source": [
    "sorted(a)"
   ]
  },
  {
   "cell_type": "markdown",
   "metadata": {
    "id": "EvGDpZ_-FeLe"
   },
   "source": [
    "## **[5] 튜플 함수**\n",
    "- `len`: 튜플의 길이를 구합니다.\n",
    "- `sum, min, max`: 튜플의 요소들의 합, 최솟값, 최댓값을 구합니다.\n",
    "- `in`: 특정 요소가 튜플 안에 있는지 확인합니다.\n",
    "- `count`: 튜플의 특정 요소의 개수를 반환합니다.\n",
    "- `index`: 튜플에 요소가 있는 경우 인덱스 값을 반환합니다.\n",
    "- `join`: 튜플의 요소들을 하나의 문자열로 합칩니다."
   ]
  },
  {
   "cell_type": "code",
   "execution_count": 20,
   "metadata": {
    "id": "CydJq5TzFSnB"
   },
   "outputs": [
    {
     "name": "stdout",
     "output_type": "stream",
     "text": [
      "5\n",
      "14\n",
      "1\n",
      "5\n",
      "True\n",
      "2\n",
      "1\n"
     ]
    }
   ],
   "source": [
    "a = (1,2,2,4,5)\n",
    "print(len(a))\n",
    "print(sum(a))\n",
    "print(min(a))\n",
    "print(max(a))\n",
    "print(1 in a)\n",
    "print(a.count(2))\n",
    "print(a.index(2))"
   ]
  },
  {
   "cell_type": "code",
   "execution_count": 21,
   "metadata": {
    "id": "Y8fXwGfwHNTd"
   },
   "outputs": [
    {
     "data": {
      "text/plain": [
       "'a b c d e'"
      ]
     },
     "execution_count": 21,
     "metadata": {},
     "output_type": "execute_result"
    }
   ],
   "source": [
    "ls = ('a','b','c','d','e')\n",
    "' '.join(ls)"
   ]
  },
  {
   "cell_type": "markdown",
   "metadata": {
    "id": "gENUJS2GMWEA"
   },
   "source": [
    "## **[6] 튜플 함수 심화**\n",
    "- `max(튜플, key = lambda x:x[인덱스])` : 다중 튜플의 경우 정렬 기준을 정의하여 튜플 내 최댓값을 탐색함\n",
    "- `min(튜플, key = lambda x:x[인덱스])` : 다중 튜플의 경우 정렬 기준을 정의하여 튜플 내 최솟값을 탐색함"
   ]
  },
  {
   "cell_type": "code",
   "execution_count": 22,
   "metadata": {
    "id": "QM9ugCjiHQSx"
   },
   "outputs": [
    {
     "name": "stdout",
     "output_type": "stream",
     "text": [
      "('e', -9)\n",
      "('b', 7)\n",
      "('a', 1)\n",
      "('e', -9)\n"
     ]
    }
   ],
   "source": [
    "a = (('a', 1), ('b',7), ('c', 3), ('d', -5), ('e', -9))\n",
    "print(max(a, key = lambda x:x[0]))\n",
    "print(max(a, key = lambda x:x[1]))\n",
    "\n",
    "print(min(a, key = lambda x:x[0]))\n",
    "print(min(a, key = lambda x:x[1]))"
   ]
  },
  {
   "cell_type": "markdown",
   "metadata": {
    "id": "45ADrAtWU_Kv"
   },
   "source": [
    "- 두번째 요소의 절댓값을 기준으로 최댓값/최솟값을 탐색하고 싶다면?"
   ]
  },
  {
   "cell_type": "code",
   "execution_count": 23,
   "metadata": {
    "id": "yiUAgsRvU1md"
   },
   "outputs": [
    {
     "name": "stdout",
     "output_type": "stream",
     "text": [
      "('e', -9)\n",
      "('a', 1)\n"
     ]
    }
   ],
   "source": [
    "print(max(a, key = lambda x:abs(x[1])))\n",
    "print(min(a, key = lambda x:abs(x[1])))"
   ]
  },
  {
   "cell_type": "markdown",
   "metadata": {
    "id": "HvPY1fXPVZwI"
   },
   "source": [
    "- 리스트에도 비슷하게 적용할 수 있습니다."
   ]
  },
  {
   "cell_type": "code",
   "execution_count": 24,
   "metadata": {
    "id": "odfg7gy_VPhK"
   },
   "outputs": [
    {
     "data": {
      "text/plain": [
       "[('a', 1), ('b', 7), ('c', 3), ('d', -5), ('e', -9)]"
      ]
     },
     "execution_count": 24,
     "metadata": {},
     "output_type": "execute_result"
    }
   ],
   "source": [
    "b = list(a)\n",
    "b"
   ]
  },
  {
   "cell_type": "code",
   "execution_count": 25,
   "metadata": {
    "id": "pEiyqhDkVqSP"
   },
   "outputs": [
    {
     "name": "stdout",
     "output_type": "stream",
     "text": [
      "[('e', -9), ('d', -5), ('a', 1), ('c', 3), ('b', 7)]\n",
      "[('b', 7), ('c', 3), ('a', 1), ('d', -5), ('e', -9)]\n",
      "[('a', 1), ('c', 3), ('d', -5), ('b', 7), ('e', -9)]\n"
     ]
    }
   ],
   "source": [
    "print(sorted(b, key = lambda x:x[1]))\n",
    "print(sorted(b, key = lambda x:x[1], reverse=True))\n",
    "print(sorted(b, key = lambda x:abs(x[1])))"
   ]
  },
  {
   "cell_type": "code",
   "execution_count": null,
   "metadata": {
    "id": "b8fgcflC6gxa"
   },
   "outputs": [],
   "source": []
  }
 ],
 "metadata": {
  "colab": {
   "provenance": []
  },
  "kernelspec": {
   "display_name": "Python 3 (ipykernel)",
   "language": "python",
   "name": "python3"
  },
  "language_info": {
   "codemirror_mode": {
    "name": "ipython",
    "version": 3
   },
   "file_extension": ".py",
   "mimetype": "text/x-python",
   "name": "python",
   "nbconvert_exporter": "python",
   "pygments_lexer": "ipython3",
   "version": "3.11.5"
  }
 },
 "nbformat": 4,
 "nbformat_minor": 1
}
