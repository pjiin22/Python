{
 "cells": [
  {
   "cell_type": "markdown",
   "metadata": {
    "id": "iYfegsceUDQ1"
   },
   "source": [
    "## **[1] 파이썬에서 `if`란**\n",
    "조건의 참과 거짓을 판단해 그에 따라 동작을 수행합니다.\n",
    "\n",
    "    날씨가 맑으면 공원에 가고, 날씨가 흐리면 카페에 가고, 그 외의 날씨에는 집에 있는다.\n",
    "\n",
    "이것을 파이썬으로 표현하려면? `if, elif, else` 조건문을 사용합니다.\n",
    "\n",
    "    if 날씨가 맑다:\n",
    "        공원에 간다\n",
    "    elif 날씨가 흐리다:\n",
    "        카페에 간다\n",
    "    else:\n",
    "        집에 있는다\n"
   ]
  },
  {
   "cell_type": "markdown",
   "metadata": {
    "id": "z7mFcjieWffX"
   },
   "source": [
    "`if` 문의 기본 구조는\n",
    "\n",
    "    if 조건문:\n",
    "        수행문1\n",
    "        수행문2\n",
    "        ...\n",
    "\n",
    "이고, 조건이 여러개라면 `elif`와 `else`를 사용합니다.\n",
    "\n",
    "    if 조건문1:\n",
    "        수행문1\n",
    "        수행문2\n",
    "        ...\n",
    "    elif 조건문2:\n",
    "        수행문1\n",
    "        수행문2\n",
    "        ...\n",
    "    ...\n",
    "    else:\n",
    "        수행문1\n",
    "        수행문2\n",
    "        ...\n"
   ]
  },
  {
   "cell_type": "code",
   "execution_count": 1,
   "metadata": {
    "id": "0oFkxZrcYMk_"
   },
   "outputs": [
    {
     "name": "stdout",
     "output_type": "stream",
     "text": [
      "3입니다.\n"
     ]
    }
   ],
   "source": [
    "x = 3\n",
    "if x == 3:\n",
    "    print('3입니다.')\n",
    "else:\n",
    "    print('3이 아닙니다.')\n"
   ]
  },
  {
   "cell_type": "code",
   "execution_count": 3,
   "metadata": {
    "id": "aZPzmElJYM_Q"
   },
   "outputs": [
    {
     "name": "stdout",
     "output_type": "stream",
     "text": [
      "음수\n"
     ]
    }
   ],
   "source": [
    "x = -1\n",
    "if x >= 0:\n",
    "    print('양수')\n",
    "elif x < 0:\n",
    "    print('음수')\n",
    "else:\n",
    "    print('숫자가 아닙니다.')"
   ]
  },
  {
   "cell_type": "markdown",
   "metadata": {
    "id": "628jZ0NLbNZR"
   },
   "source": [
    "- `elif`는 아래와 같이 `else`문 안에서 조건문이 복잡해지는 것을 단순화한 것입니다."
   ]
  },
  {
   "cell_type": "code",
   "execution_count": 6,
   "metadata": {
    "id": "mEvfl7dybGI0"
   },
   "outputs": [
    {
     "name": "stdout",
     "output_type": "stream",
     "text": [
      "양수\n"
     ]
    }
   ],
   "source": [
    "x = 3\n",
    "if x >= 0:\n",
    "    print('양수')\n",
    "else:\n",
    "    if x < 0:\n",
    "        print('음수')\n",
    "    else:\n",
    "        print('숫자가 아닙니다.')"
   ]
  },
  {
   "cell_type": "markdown",
   "metadata": {
    "id": "fnBk0yAqXtK6"
   },
   "source": [
    "## **[2] 들여쓰기에 주의합시다.**\n",
    "\n",
    "\n",
    "    if 조건문:\n",
    "        수행문1\n",
    "    수행문2\n",
    "        ...\n",
    "\n",
    "이렇게 수행문을 들여쓰기 해주지 않거나\n",
    "\n",
    "        if 조건문:\n",
    "        수행문1\n",
    "        수행문2\n",
    "            ...\n",
    "조건문을 수행문과 같은 위치로 들여쓰기를 하는 경우 오류가 발생합니다."
   ]
  },
  {
   "cell_type": "code",
   "execution_count": 9,
   "metadata": {
    "id": "i32dP0opT_f5"
   },
   "outputs": [
    {
     "ename": "IndentationError",
     "evalue": "expected an indented block after 'if' statement on line 2 (1597022686.py, line 3)",
     "output_type": "error",
     "traceback": [
      "\u001b[1;36m  Cell \u001b[1;32mIn[9], line 3\u001b[1;36m\u001b[0m\n\u001b[1;33m    print('3입니다.')\u001b[0m\n\u001b[1;37m    ^\u001b[0m\n\u001b[1;31mIndentationError\u001b[0m\u001b[1;31m:\u001b[0m expected an indented block after 'if' statement on line 2\n"
     ]
    }
   ],
   "source": [
    "x = 3\n",
    "if x == 3:\n",
    "print('3입니다.')\n",
    "else:\n",
    "    print('3이 아닙니다.')\n"
   ]
  },
  {
   "cell_type": "code",
   "execution_count": 11,
   "metadata": {
    "id": "dUq5ptsCY5XL"
   },
   "outputs": [
    {
     "ename": "IndentationError",
     "evalue": "unexpected indent (4072143396.py, line 2)",
     "output_type": "error",
     "traceback": [
      "\u001b[1;36m  Cell \u001b[1;32mIn[11], line 2\u001b[1;36m\u001b[0m\n\u001b[1;33m    if x == 3:\u001b[0m\n\u001b[1;37m    ^\u001b[0m\n\u001b[1;31mIndentationError\u001b[0m\u001b[1;31m:\u001b[0m unexpected indent\n"
     ]
    }
   ],
   "source": [
    "x = 3\n",
    "    if x == 3:\n",
    "    print('3입니다.')\n",
    "else:\n",
    "    print('3이 아닙니다.')"
   ]
  },
  {
   "cell_type": "markdown",
   "metadata": {
    "id": "FGhoaSvtbgMl"
   },
   "source": [
    "- 조건문에서 수행을 하지 않고 넘어가고 싶으면 `pass`를 쓰면 됩니다."
   ]
  },
  {
   "cell_type": "code",
   "execution_count": 14,
   "metadata": {
    "id": "Lx9BDUfIbgfM"
   },
   "outputs": [],
   "source": [
    "b = 3\n",
    "if b >= 0:\n",
    "    pass\n",
    "else:\n",
    "    print('음수')"
   ]
  },
  {
   "cell_type": "markdown",
   "metadata": {
    "id": "O9lG8GRnY-yE"
   },
   "source": [
    "## **[3] 연산자**\n",
    "|연산자|설명|\n",
    "|:---------|:---|\n",
    "|A > B|A가 B보다 크다|\n",
    "|A < B|A가 B보다 작다|\n",
    "|A >= B|A가 B보다 크거나 같다|\n",
    "|A <= B|A가 B보다 작거나 같다|\n",
    "|A == B|A와 B가 같다|\n",
    "|A != B|A가 B와 같지 않다|\n",
    "|A and B|A와 B 둘 다 참이어야 참이다|\n",
    "|A or B|A와 B 중 하나만 참이어도 참이다|\n",
    "|not A|A가 거짓일 때 참이다|\n",
    "|x in 리스트/튜플/문자열|x가 리스트/튜플/문자열에 들어있을 때 참이다|\n",
    "|x not in 리스트/튜플/문자열|x가 리스트/튜플/문자열에 들어있지 않을 때 참이다|"
   ]
  },
  {
   "cell_type": "code",
   "execution_count": 17,
   "metadata": {
    "id": "short-tobago"
   },
   "outputs": [
    {
     "name": "stdout",
     "output_type": "stream",
     "text": [
      "False\n",
      "False\n",
      "False\n",
      "True\n",
      "True\n",
      "True\n",
      "True\n"
     ]
    }
   ],
   "source": [
    "a = 3\n",
    "b = 1\n",
    "\n",
    "print((a == b) and (a >= b))\n",
    "print((a >= b) and (a <= b))\n",
    "print((a <= b) and (a != b))\n",
    "print((a == b) or (a >= b))\n",
    "print((a >= b) or (a <= b))\n",
    "print((a <= b) or (a != b))\n",
    "print(not a == b)"
   ]
  },
  {
   "cell_type": "code",
   "execution_count": 19,
   "metadata": {
    "id": "younger-newcastle"
   },
   "outputs": [
    {
     "name": "stdout",
     "output_type": "stream",
     "text": [
      "True\n",
      "False\n",
      "False\n",
      "True\n"
     ]
    }
   ],
   "source": [
    "a = [1,2,3]\n",
    "print(1 in a)\n",
    "print(4 in a)\n",
    "print(1 not in a)\n",
    "print(4 not in a)"
   ]
  },
  {
   "cell_type": "code",
   "execution_count": 21,
   "metadata": {
    "id": "w8pGzUrXaogK"
   },
   "outputs": [
    {
     "name": "stdout",
     "output_type": "stream",
     "text": [
      "False\n",
      "True\n",
      "False\n"
     ]
    }
   ],
   "source": [
    "s = 'Hello, World!'\n",
    "print('h' in s)\n",
    "print('!' in s)\n",
    "print('W' not in s)"
   ]
  }
 ],
 "metadata": {
  "colab": {
   "provenance": []
  },
  "kernelspec": {
   "display_name": "Python 3 (ipykernel)",
   "language": "python",
   "name": "python3"
  },
  "language_info": {
   "codemirror_mode": {
    "name": "ipython",
    "version": 3
   },
   "file_extension": ".py",
   "mimetype": "text/x-python",
   "name": "python",
   "nbconvert_exporter": "python",
   "pygments_lexer": "ipython3",
   "version": "3.12.4"
  }
 },
 "nbformat": 4,
 "nbformat_minor": 4
}
