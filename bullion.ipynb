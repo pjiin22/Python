{
 "cells": [
  {
   "cell_type": "markdown",
   "metadata": {
    "id": "R24mReAVHoo_"
   },
   "source": [
    "## **[1] 집합이란?**\n",
    "- 순서가 없고 중복이 없는 자료형입니다.\n",
    "- 요소들을 중괄호(`{}`)로 감싸면 됩니다."
   ]
  },
  {
   "cell_type": "code",
   "execution_count": 1,
   "metadata": {
    "id": "honey-seventh"
   },
   "outputs": [
    {
     "name": "stdout",
     "output_type": "stream",
     "text": [
      "{1, 2, 'a'} <class 'set'>\n",
      "{'e', 'l', 'H', 'o'} <class 'set'>\n",
      "{1, 2, 3, 4, 5} <class 'set'>\n",
      "{1, 2, 3} <class 'set'>\n"
     ]
    }
   ],
   "source": [
    "s1 = set([1,2,'a'])\n",
    "s2 = set(\"Hello\")\n",
    "s3 = set([1,2,2,3,4,5,5,3])\n",
    "s4 = set((1,2,2,3))\n",
    "\n",
    "print(s1, type(s1))\n",
    "print(s2, type(s2))\n",
    "print(s3, type(s3))\n",
    "print(s4, type(s4))"
   ]
  },
  {
   "cell_type": "markdown",
   "metadata": {
    "id": "2ZkGzWWiIoQE"
   },
   "source": [
    "- 순서가 없기 때문에 인덱싱이 되지 않습니다.\n",
    " - 인덱싱을 하고 싶으면 리스트나 튜플로 변환 후 인덱싱을 합니다."
   ]
  },
  {
   "cell_type": "code",
   "execution_count": 4,
   "metadata": {
    "id": "funded-processor"
   },
   "outputs": [
    {
     "ename": "TypeError",
     "evalue": "'set' object is not subscriptable",
     "output_type": "error",
     "traceback": [
      "\u001b[1;31m---------------------------------------------------------------------------\u001b[0m",
      "\u001b[1;31mTypeError\u001b[0m                                 Traceback (most recent call last)",
      "Cell \u001b[1;32mIn[4], line 1\u001b[0m\n\u001b[1;32m----> 1\u001b[0m s1[\u001b[38;5;241m0\u001b[39m]\n",
      "\u001b[1;31mTypeError\u001b[0m: 'set' object is not subscriptable"
     ]
    }
   ],
   "source": [
    "s1[0]"
   ]
  },
  {
   "cell_type": "code",
   "execution_count": null,
   "metadata": {
    "id": "hjaLnLY5I5c7"
   },
   "outputs": [],
   "source": [
    "list(s1)[0]"
   ]
  },
  {
   "cell_type": "markdown",
   "metadata": {
    "id": "eERzECzSJzvL"
   },
   "source": [
    "## **[2] 집합 함수**\n",
    "- `intersection` or `&`: 교집합\n",
    "- `difference` or `-` : 차집합\n",
    "- `union` or `|` : 합집합\n",
    "\n",
    "![집합](https://img1.daumcdn.net/thumb/R1280x0/?scode=mtistory2&fname=https%3A%2F%2Fblog.kakaocdn.net%2Fdn%2Fb1y9C8%2Fbtq5f3klSVM%2FSaSKy85SeOoiRVbLocFUq0%2Fimg.png)\n"
   ]
  },
  {
   "cell_type": "code",
   "execution_count": 7,
   "metadata": {
    "id": "successful-danger"
   },
   "outputs": [
    {
     "name": "stdout",
     "output_type": "stream",
     "text": [
      "{5, 6, 7, 8, 9, 10}\n",
      "{5, 6, 7, 8, 9, 10}\n",
      "{1, 2, 3, 4}\n",
      "{1, 2, 3, 4}\n",
      "{1, 2, 3, 4, 5, 6, 7, 8, 9, 10, 11, 12}\n",
      "{1, 2, 3, 4, 5, 6, 7, 8, 9, 10, 11, 12}\n"
     ]
    }
   ],
   "source": [
    "s1 = set([1,2,3,4,5,6,7,8,9,10])\n",
    "s2 = set([5,6,7,8,9,10,11,12])\n",
    "print(s1&s2)\n",
    "print(s1.intersection(s2))\n",
    "\n",
    "print(s1-s2)\n",
    "print(s1.difference(s2))\n",
    "\n",
    "print(s1|s2)\n",
    "print(s1.union(s2))"
   ]
  },
  {
   "cell_type": "markdown",
   "metadata": {
    "id": "LQPKIHwCNI8L"
   },
   "source": [
    "- `add`: 요소를 추가\n",
    "- `remove`: 요소를 제거"
   ]
  },
  {
   "cell_type": "code",
   "execution_count": 10,
   "metadata": {
    "id": "martial-clock"
   },
   "outputs": [
    {
     "data": {
      "text/plain": [
       "{1, 2, 3, 4, 5, 6, 7, 8, 9, 10, 11}"
      ]
     },
     "execution_count": 10,
     "metadata": {},
     "output_type": "execute_result"
    }
   ],
   "source": [
    "s1.add(11)\n",
    "s1"
   ]
  },
  {
   "cell_type": "code",
   "execution_count": 12,
   "metadata": {
    "id": "indie-replica"
   },
   "outputs": [
    {
     "data": {
      "text/plain": [
       "{1, 2, 4, 5, 6, 7, 8, 9, 10, 11}"
      ]
     },
     "execution_count": 12,
     "metadata": {},
     "output_type": "execute_result"
    }
   ],
   "source": [
    "s1.remove(3)\n",
    "s1"
   ]
  },
  {
   "cell_type": "markdown",
   "metadata": {
    "id": "LOPn4LuNNkmy"
   },
   "source": [
    "## **[1] 불리언이란?**\n",
    "- 참 또는 거짓을 나타내는 자료형\n",
    "- `True, False`로 나타내야 한다. (첫 문자가 항상 대문자)"
   ]
  },
  {
   "cell_type": "code",
   "execution_count": 16,
   "metadata": {
    "id": "ceramic-breath"
   },
   "outputs": [
    {
     "name": "stdout",
     "output_type": "stream",
     "text": [
      "True\n",
      "False\n",
      "False\n",
      "True\n",
      "True\n"
     ]
    }
   ],
   "source": [
    "print(2>1)\n",
    "print(3<=1)\n",
    "print('1'==1)\n",
    "print('1'!=1)\n",
    "print(int('1')==1)"
   ]
  },
  {
   "cell_type": "code",
   "execution_count": 18,
   "metadata": {
    "id": "short-tobago"
   },
   "outputs": [],
   "source": [
    "a = 3\n",
    "b = 1"
   ]
  },
  {
   "cell_type": "code",
   "execution_count": 20,
   "metadata": {
    "id": "minor-threshold"
   },
   "outputs": [
    {
     "name": "stdout",
     "output_type": "stream",
     "text": [
      "False\n",
      "False\n",
      "False\n",
      "True\n",
      "True\n",
      "True\n"
     ]
    }
   ],
   "source": [
    "print((a == b) and (a >= b))\n",
    "print((a >= b) and (a <= b))\n",
    "print((a <= b) and (a != b))\n",
    "print((a == b) or (a >= b))\n",
    "print((a >= b) or (a <= b))\n",
    "print((a <= b) or (a != b))"
   ]
  },
  {
   "cell_type": "code",
   "execution_count": 22,
   "metadata": {
    "id": "younger-newcastle"
   },
   "outputs": [
    {
     "name": "stdout",
     "output_type": "stream",
     "text": [
      "True\n",
      "False\n",
      "False\n",
      "True\n"
     ]
    }
   ],
   "source": [
    "a = [1,2,3]\n",
    "print(1 in a)\n",
    "print(4 in a)\n",
    "print(1 not in a)\n",
    "print(4 not in a)"
   ]
  },
  {
   "cell_type": "markdown",
   "metadata": {
    "id": "5AcEJ2sDQBVX"
   },
   "source": [
    "# **파이썬의 변수 심화 - copy()**\n",
    "\n",
    "\n",
    "---\n"
   ]
  },
  {
   "cell_type": "code",
   "execution_count": 25,
   "metadata": {
    "id": "statewide-battlefield"
   },
   "outputs": [
    {
     "name": "stdout",
     "output_type": "stream",
     "text": [
      "[1, 2, 3]\n",
      "[1, 2, 3]\n",
      "True\n",
      "True\n"
     ]
    }
   ],
   "source": [
    "a = [1,2,3]\n",
    "b = a\n",
    "print(a)\n",
    "print(b)\n",
    "print(a==b)\n",
    "print(b is a)"
   ]
  },
  {
   "cell_type": "markdown",
   "metadata": {
    "id": "aoYA_BmoQdNv"
   },
   "source": [
    "- a의 특정 인덱스 값을 바꾼다면 b의 값은?"
   ]
  },
  {
   "cell_type": "code",
   "execution_count": 28,
   "metadata": {
    "id": "afraid-assist"
   },
   "outputs": [
    {
     "name": "stdout",
     "output_type": "stream",
     "text": [
      "[1, 2, 4]\n",
      "[1, 2, 4]\n"
     ]
    }
   ],
   "source": [
    "a[2]=4\n",
    "print(a)\n",
    "print(b)"
   ]
  },
  {
   "cell_type": "markdown",
   "metadata": {
    "id": "9brVfPCTQhj5"
   },
   "source": [
    "- 바뀐다. 리스트 객체가 같기 때문"
   ]
  },
  {
   "cell_type": "code",
   "execution_count": 31,
   "metadata": {
    "id": "finished-flexibility"
   },
   "outputs": [
    {
     "name": "stdout",
     "output_type": "stream",
     "text": [
      "2018501859136\n",
      "2018501859136\n"
     ]
    }
   ],
   "source": [
    "print(id(a))\n",
    "print(id(b))"
   ]
  },
  {
   "cell_type": "markdown",
   "metadata": {
    "id": "superb-handle"
   },
   "source": [
    "- b에 a의 값을 가져오면서 다른 주소를 가리키도록 할 수는 없을까?\n",
    " - `copy` 함수를 이용합니다."
   ]
  },
  {
   "cell_type": "code",
   "execution_count": 34,
   "metadata": {
    "id": "american-surgery"
   },
   "outputs": [
    {
     "name": "stdout",
     "output_type": "stream",
     "text": [
      "2018502143808\n",
      "2018502145536\n",
      "[1, 2, 3]\n",
      "[1, 2, 3]\n",
      "True\n"
     ]
    }
   ],
   "source": [
    "a = [1,2,3]\n",
    "b = a.copy()\n",
    "print(id(a))\n",
    "print(id(b))\n",
    "print(a)\n",
    "print(b)\n",
    "print(a == b)"
   ]
  },
  {
   "cell_type": "code",
   "execution_count": 36,
   "metadata": {
    "id": "egyptian-covering"
   },
   "outputs": [
    {
     "name": "stdout",
     "output_type": "stream",
     "text": [
      "[1, 2, 4]\n",
      "[1, 2, 3]\n",
      "False\n"
     ]
    }
   ],
   "source": [
    "a[2]=4\n",
    "print(a)\n",
    "print(b)\n",
    "print(a==b)"
   ]
  }
 ],
 "metadata": {
  "colab": {
   "provenance": []
  },
  "kernelspec": {
   "display_name": "Python 3 (ipykernel)",
   "language": "python",
   "name": "python3"
  },
  "language_info": {
   "codemirror_mode": {
    "name": "ipython",
    "version": 3
   },
   "file_extension": ".py",
   "mimetype": "text/x-python",
   "name": "python",
   "nbconvert_exporter": "python",
   "pygments_lexer": "ipython3",
   "version": "3.12.4"
  }
 },
 "nbformat": 4,
 "nbformat_minor": 4
}
