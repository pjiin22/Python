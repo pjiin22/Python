{
 "cells": [
  {
   "cell_type": "markdown",
   "metadata": {
    "id": "Y53LKuUucwRA"
   },
   "source": [
    "# **제어문 for**\n",
    "\n",
    "\n",
    "---\n"
   ]
  },
  {
   "cell_type": "markdown",
   "metadata": {
    "id": "cnB6oUqDcwq2"
   },
   "source": [
    "## **[1] 파이썬에서 `for`란?**\n",
    "- 가장 많이 쓰이는 반복문\n",
    "- 리스트/튜플/문자열의 첫 번째 요소부터 마지막 요소까지 차례로 변수를 받아 반복적으로 수행문을 실행합니다.\n",
    "\n",
    "\n",
    "    for 변수 in 리스트/튜플/문자열:\n",
    "        수행문1\n",
    "        수행문2\n",
    "        ..."
   ]
  },
  {
   "cell_type": "code",
   "execution_count": 1,
   "metadata": {
    "id": "JKm_vPTkcugs"
   },
   "outputs": [
    {
     "name": "stdout",
     "output_type": "stream",
     "text": [
      "1\n",
      "2\n",
      "3\n",
      "4\n",
      "5\n"
     ]
    }
   ],
   "source": [
    "ls = [1,2,3,4,5]\n",
    "for i in ls:\n",
    "    print(i)"
   ]
  },
  {
   "cell_type": "markdown",
   "metadata": {
    "id": "k9wQzVUTdwQD"
   },
   "source": [
    "- 위 코드는 아래와 같다."
   ]
  },
  {
   "cell_type": "code",
   "execution_count": 4,
   "metadata": {
    "id": "AcVL7ffQdoVq"
   },
   "outputs": [
    {
     "name": "stdout",
     "output_type": "stream",
     "text": [
      "1\n",
      "2\n",
      "3\n",
      "4\n",
      "5\n"
     ]
    }
   ],
   "source": [
    "print(ls[0])\n",
    "print(ls[1])\n",
    "print(ls[2])\n",
    "print(ls[3])\n",
    "print(ls[4])"
   ]
  },
  {
   "cell_type": "markdown",
   "metadata": {
    "id": "PIk6SYpod_Hb"
   },
   "source": [
    "- 앞서 배웠던 `range` 함수가 `for`문과 함께 많이 쓰인다."
   ]
  },
  {
   "cell_type": "code",
   "execution_count": 7,
   "metadata": {
    "id": "YOQVpAhvdyHk"
   },
   "outputs": [
    {
     "name": "stdout",
     "output_type": "stream",
     "text": [
      "1\n",
      "2\n",
      "3\n",
      "4\n",
      "5\n"
     ]
    }
   ],
   "source": [
    "for i in range(1,6):\n",
    "    print(i)"
   ]
  },
  {
   "cell_type": "code",
   "execution_count": 9,
   "metadata": {
    "id": "SL3EoBXQNxrr"
   },
   "outputs": [
    {
     "name": "stdout",
     "output_type": "stream",
     "text": [
      "1\n",
      "2\n",
      "3\n",
      "4\n",
      "5\n"
     ]
    }
   ],
   "source": [
    "ls = [1,2,3,4,5]\n",
    "for i in range(len(ls)):\n",
    "    print(ls[i])"
   ]
  },
  {
   "cell_type": "code",
   "execution_count": 11,
   "metadata": {
    "id": "Ysg4atdXN8SO"
   },
   "outputs": [
    {
     "data": {
      "text/plain": [
       "[0, 1, 2, 3, 4]"
      ]
     },
     "execution_count": 11,
     "metadata": {},
     "output_type": "execute_result"
    }
   ],
   "source": [
    "list(range(len(ls)))"
   ]
  },
  {
   "cell_type": "code",
   "execution_count": 13,
   "metadata": {
    "id": "Y6Xo25otfqCQ"
   },
   "outputs": [
    {
     "name": "stdout",
     "output_type": "stream",
     "text": [
      "a\n",
      "b\n",
      "c\n",
      "d\n"
     ]
    }
   ],
   "source": [
    "a = ['a','b','c','d']\n",
    "for i in range(len(a)):\n",
    "    print(a[i])"
   ]
  },
  {
   "cell_type": "code",
   "execution_count": 15,
   "metadata": {
    "id": "B9bj2WRjOEUS"
   },
   "outputs": [
    {
     "name": "stdout",
     "output_type": "stream",
     "text": [
      "a\n",
      "b\n",
      "c\n",
      "d\n"
     ]
    }
   ],
   "source": [
    "for i in a:\n",
    "    print(i)"
   ]
  },
  {
   "cell_type": "markdown",
   "metadata": {
    "id": "m4andbN9E8--"
   },
   "source": [
    "`짜장면을 열 그릇 먹으면 무료 쿠폰을 받는다`는 것을 `for`문으로 표현하면?"
   ]
  },
  {
   "cell_type": "code",
   "execution_count": 18,
   "metadata": {
    "id": "2UXnzgeUDbxF"
   },
   "outputs": [
    {
     "name": "stdout",
     "output_type": "stream",
     "text": [
      "짜장면을 1그릇 먹었습니다.\n",
      "짜장면을 2그릇 먹었습니다.\n",
      "짜장면을 3그릇 먹었습니다.\n",
      "짜장면을 4그릇 먹었습니다.\n",
      "짜장면을 5그릇 먹었습니다.\n",
      "짜장면을 6그릇 먹었습니다.\n",
      "짜장면을 7그릇 먹었습니다.\n",
      "짜장면을 8그릇 먹었습니다.\n",
      "짜장면을 9그릇 먹었습니다.\n",
      "짜장면을 10그릇 먹었습니다.\n",
      "무료 쿠폰을 받았습니다.\n"
     ]
    }
   ],
   "source": [
    "for i in range(1, 11):\n",
    "    print(f'짜장면을 {i}그릇 먹었습니다.')\n",
    "print('무료 쿠폰을 받았습니다.')"
   ]
  },
  {
   "cell_type": "markdown",
   "metadata": {
    "id": "_M_oHf7xemWP"
   },
   "source": [
    "## **[2] `continue, break, pass`**\n",
    "- `continue`는 해당 조건에서 그 루프가 끝나고 다음 루프로 넘어가도록 합니다.\n",
    "- `pass`는 실행할 코드가 없는 것과 마찬가지로 해당 루프는 모두 실행하고 다음 루프로 넘어갑니다.\n",
    "- `break`는 조건문 자체를 중단시킵니다.\n",
    "\n"
   ]
  },
  {
   "cell_type": "code",
   "execution_count": 21,
   "metadata": {
    "id": "3qH4iXPwe4yp"
   },
   "outputs": [
    {
     "name": "stdout",
     "output_type": "stream",
     "text": [
      "1\n",
      "3\n",
      "5\n",
      "7\n",
      "9\n"
     ]
    }
   ],
   "source": [
    "for i in range(1, 11):\n",
    "    if i % 2 == 0:\n",
    "        continue\n",
    "    print(i)"
   ]
  },
  {
   "cell_type": "code",
   "execution_count": 23,
   "metadata": {
    "id": "z6sfJOE-fMlG"
   },
   "outputs": [
    {
     "name": "stdout",
     "output_type": "stream",
     "text": [
      "1\n"
     ]
    }
   ],
   "source": [
    "for i in range(1, 11):\n",
    "    if i % 2 == 0:\n",
    "        break\n",
    "    print(i)"
   ]
  },
  {
   "cell_type": "code",
   "execution_count": 25,
   "metadata": {
    "id": "zdpIf73oOmyl"
   },
   "outputs": [
    {
     "name": "stdout",
     "output_type": "stream",
     "text": [
      "1\n",
      "2\n",
      "3\n",
      "4\n",
      "5\n",
      "6\n",
      "7\n",
      "8\n",
      "9\n",
      "10\n"
     ]
    }
   ],
   "source": [
    "for i in range(1, 11):\n",
    "    if i % 2 == 0:\n",
    "        pass\n",
    "    print(i)"
   ]
  },
  {
   "cell_type": "code",
   "execution_count": 27,
   "metadata": {
    "id": "VqFXAgz0KuKn"
   },
   "outputs": [
    {
     "name": "stdout",
     "output_type": "stream",
     "text": [
      "1\n"
     ]
    }
   ],
   "source": [
    "a = 0\n",
    "while a < 10:\n",
    "    a += 1\n",
    "    if a % 2 == 0:\n",
    "        break\n",
    "    print(a)"
   ]
  },
  {
   "cell_type": "markdown",
   "metadata": {
    "id": "E0I1woQugQRn"
   },
   "source": [
    "## **[3] 리스트에서 `for`문 쓰기**\n",
    "- `append` 함수가 유용하다."
   ]
  },
  {
   "cell_type": "markdown",
   "metadata": {
    "id": "DgwLADWCgkbx"
   },
   "source": [
    "- 1~50까지의 5의 배수를 리스트에 담으려면?"
   ]
  },
  {
   "cell_type": "code",
   "execution_count": 31,
   "metadata": {
    "id": "YeETXW_Bgjid"
   },
   "outputs": [
    {
     "name": "stdout",
     "output_type": "stream",
     "text": [
      "[5, 10, 15, 20, 25, 30, 35, 40, 45, 50]\n"
     ]
    }
   ],
   "source": [
    "ls = []\n",
    "for i in range(1, 51):\n",
    "    if i % 5 == 0:\n",
    "        ls.append(i)\n",
    "\n",
    "print(ls)"
   ]
  },
  {
   "cell_type": "markdown",
   "metadata": {
    "id": "qOu3M0t8hEm6"
   },
   "source": [
    "## **[4] 딕셔너리에서 `for`문 쓰기**\n",
    "- `items` 함수가 유용하다."
   ]
  },
  {
   "cell_type": "code",
   "execution_count": 34,
   "metadata": {
    "id": "uqTIg_20PQC7"
   },
   "outputs": [],
   "source": [
    "dic = {'name':'Merry',\\\n",
    "      'num':1,\\\n",
    "      'birth':'jan'}"
   ]
  },
  {
   "cell_type": "code",
   "execution_count": 36,
   "metadata": {
    "id": "wWvJkpc3PRuT"
   },
   "outputs": [
    {
     "data": {
      "text/plain": [
       "dict_items([('name', 'Merry'), ('num', 1), ('birth', 'jan')])"
      ]
     },
     "execution_count": 36,
     "metadata": {},
     "output_type": "execute_result"
    }
   ],
   "source": [
    "dic.items()"
   ]
  },
  {
   "cell_type": "code",
   "execution_count": 38,
   "metadata": {
    "id": "AmhcS8vag8bB"
   },
   "outputs": [
    {
     "name": "stdout",
     "output_type": "stream",
     "text": [
      "name : Merry\n",
      "num : 1\n",
      "birth : jan\n"
     ]
    }
   ],
   "source": [
    "for k, v in dic.items():\n",
    "    print(k, ':', v)"
   ]
  },
  {
   "cell_type": "markdown",
   "metadata": {
    "id": "M1_YysV5jCbd"
   },
   "source": [
    "## **[5] 튜플에서 `for`문 쓰기**\n",
    "- 다양하게 인덱싱 할 수 있다."
   ]
  },
  {
   "cell_type": "code",
   "execution_count": 41,
   "metadata": {
    "id": "34g7ysvzhauD"
   },
   "outputs": [
    {
     "name": "stdout",
     "output_type": "stream",
     "text": [
      "3\n",
      "7\n",
      "11\n"
     ]
    }
   ],
   "source": [
    "a = [(1,2), (3,4), (5,6)]\n",
    "for i in a:\n",
    "    print(i[0]+i[1])"
   ]
  },
  {
   "cell_type": "code",
   "execution_count": 43,
   "metadata": {
    "id": "f65w65DTjR3h"
   },
   "outputs": [
    {
     "name": "stdout",
     "output_type": "stream",
     "text": [
      "3\n",
      "7\n",
      "11\n"
     ]
    }
   ],
   "source": [
    "a = [(1,2), (3,4), (5,6)]\n",
    "for i, j in a:\n",
    "    print(i + j)"
   ]
  },
  {
   "cell_type": "code",
   "execution_count": 45,
   "metadata": {
    "id": "hfdvOt93P2tX"
   },
   "outputs": [
    {
     "name": "stdout",
     "output_type": "stream",
     "text": [
      "3\n",
      "7\n",
      "11\n"
     ]
    }
   ],
   "source": [
    "a = [[1,2], [3,4], [5,6]]\n",
    "for i, j in a:\n",
    "    print(i + j)"
   ]
  },
  {
   "cell_type": "markdown",
   "metadata": {
    "id": "Sd1hlZfvjVoK"
   },
   "source": [
    "## **[6] `for`문 중첩**\n",
    "- 구구단을 작성해보자."
   ]
  },
  {
   "cell_type": "code",
   "execution_count": 48,
   "metadata": {
    "id": "KqnT82lajU1Q"
   },
   "outputs": [
    {
     "name": "stdout",
     "output_type": "stream",
     "text": [
      "2 4 6 8 10 12 14 16 18 \n",
      "3 6 9 12 15 18 21 24 27 \n",
      "4 8 12 16 20 24 28 32 36 \n",
      "5 10 15 20 25 30 35 40 45 \n",
      "6 12 18 24 30 36 42 48 54 \n",
      "7 14 21 28 35 42 49 56 63 \n",
      "8 16 24 32 40 48 56 64 72 \n",
      "9 18 27 36 45 54 63 72 81 \n"
     ]
    }
   ],
   "source": [
    "for i in range(2, 10):\n",
    "    for j in range(1, 10):\n",
    "        print(i * j, end = ' ')\n",
    "    print()"
   ]
  },
  {
   "cell_type": "code",
   "execution_count": null,
   "metadata": {
    "id": "sPKFR1GfSU_v"
   },
   "outputs": [],
   "source": []
  },
  {
   "cell_type": "code",
   "execution_count": null,
   "metadata": {
    "id": "DuaJT9h1LwN8"
   },
   "outputs": [],
   "source": []
  }
 ],
 "metadata": {
  "colab": {
   "provenance": []
  },
  "kernelspec": {
   "display_name": "Python 3 (ipykernel)",
   "language": "python",
   "name": "python3"
  },
  "language_info": {
   "codemirror_mode": {
    "name": "ipython",
    "version": 3
   },
   "file_extension": ".py",
   "mimetype": "text/x-python",
   "name": "python",
   "nbconvert_exporter": "python",
   "pygments_lexer": "ipython3",
   "version": "3.12.4"
  }
 },
 "nbformat": 4,
 "nbformat_minor": 4
}
