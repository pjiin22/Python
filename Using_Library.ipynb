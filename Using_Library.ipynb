{
 "cells": [
  {
   "cell_type": "markdown",
   "metadata": {
    "id": "o-bpVy3PETEF"
   },
   "source": [
    "## **[1] 라이브러리란?**\n",
    " - 다른 사람들이 만들어 둔 유용한 함수들의 모음\n",
    " - 자주 사용하는 기능을 쉽게 재사용할 수 있고 다른 사람과도 그 기능을 공유할 수 있습니다.\n",
    " - 표준 라이브러리: 파이썬을 설치할 때 자동으로 설치됩니다.\n",
    " - 외부 라이브러리: 기본으로 설치된 라이브러리가 아니므로 새로 설치해 주어야 합니다.\n",
    "\n",
    "\n",
    "    import 라이브러리명\n",
    "\n",
    "- 외부 라이브러리를 다운 받으려면\n",
    "\n",
    "\n",
    "    !pip install 라이브러리명"
   ]
  },
  {
   "cell_type": "markdown",
   "metadata": {
    "id": "z5uMEEmsFLUW"
   },
   "source": [
    "\n",
    "## **[2] 살펴볼 라이브러리**\n",
    "- `random`\n",
    "- `datetime`\n",
    "- `math`\n",
    "- `numpy`\n",
    "- `Counter`"
   ]
  },
  {
   "cell_type": "markdown",
   "metadata": {
    "id": "PsNEJ5jlccVo"
   },
   "source": [
    "## `random`\n",
    "|함수명|설명|\n",
    "|:--|:--|\n",
    "|random()| 0~1 사이의 실수형의 수를 반환합니다.|\n",
    "|randint(시작, 끝)| 특정 범위 안의 랜덤한 정수를 반환합니다.|\n",
    "|random.choice(리스트)| 리스트 중에 랜덤하게 요소를 뽑습니다.|\n",
    "|random.sample(리스트, 갯수)| 리스트 중 입력한 갯수만큼 랜덤하게 요소를 뽑습니다.|\n",
    "|random.shuffle(리스트)| 리스트를 랜덤하게 섞습니다.|"
   ]
  },
  {
   "cell_type": "code",
   "execution_count": 1,
   "metadata": {
    "id": "Cm3hmgSSDvq9"
   },
   "outputs": [
    {
     "ename": "NameError",
     "evalue": "name 'random' is not defined",
     "output_type": "error",
     "traceback": [
      "\u001b[1;31m---------------------------------------------------------------------------\u001b[0m",
      "\u001b[1;31mNameError\u001b[0m                                 Traceback (most recent call last)",
      "Cell \u001b[1;32mIn[1], line 1\u001b[0m\n\u001b[1;32m----> 1\u001b[0m random()\n",
      "\u001b[1;31mNameError\u001b[0m: name 'random' is not defined"
     ]
    }
   ],
   "source": [
    "random() #오류"
   ]
  },
  {
   "cell_type": "code",
   "execution_count": 69,
   "metadata": {
    "id": "ColEJJKFcq8w"
   },
   "outputs": [
    {
     "data": {
      "text/plain": [
       "0.3379212897035835"
      ]
     },
     "execution_count": 69,
     "metadata": {},
     "output_type": "execute_result"
    }
   ],
   "source": [
    "import random\n",
    "\n",
    "random.random()"
   ]
  },
  {
   "cell_type": "code",
   "execution_count": 71,
   "metadata": {
    "id": "4M17wGCxcuJU"
   },
   "outputs": [
    {
     "data": {
      "text/plain": [
       "555"
      ]
     },
     "execution_count": 71,
     "metadata": {},
     "output_type": "execute_result"
    }
   ],
   "source": [
    "random.randint(1, 1000)"
   ]
  },
  {
   "cell_type": "code",
   "execution_count": 73,
   "metadata": {
    "id": "5duDsClkrbxI"
   },
   "outputs": [
    {
     "data": {
      "text/plain": [
       "3"
      ]
     },
     "execution_count": 73,
     "metadata": {},
     "output_type": "execute_result"
    }
   ],
   "source": [
    "a = [i for i in range(5)]\n",
    "random.choice(a)"
   ]
  },
  {
   "cell_type": "code",
   "execution_count": null,
   "metadata": {
    "id": "cLISTWpLrhmn"
   },
   "outputs": [],
   "source": [
    "random.sample(a, 2)"
   ]
  },
  {
   "cell_type": "code",
   "execution_count": null,
   "metadata": {
    "id": "PaiTzNGerjLy"
   },
   "outputs": [],
   "source": [
    "random.shuffle(a)\n",
    "print(a)"
   ]
  },
  {
   "cell_type": "markdown",
   "metadata": {
    "id": "y0yCs4w2tFO_"
   },
   "source": [
    "## `datetime`\n",
    "- `datetime` 클래스: 날짜와 시간을 저장합니다.\n",
    "\n",
    "|함수|설명|\n",
    "|:--|:--|\n",
    "|now()|현재 시각을 반환합니다. (timezone에 유의합니다.)|\n",
    "|year, month, day, hour, minute, second, microsecond|날짜, 시간 값을 반환합니다.|\n",
    "|date()| 연월일로 이루어진 날짜 객체를 반환합니다.|\n",
    "|time()|시간 객체를 반환합니다.|\n",
    "|strftime('날짜형식')| 날짜와 시간 정보를 문자열로 변환합니다.|\n",
    "|strptime(문자열, 날짜형식)|문자열을 날짜로 변환합니다.|\n",
    "\n",
    "- `timedelta` 클래스: 시간 구간을 저장하며 날짜 연산을 할 때 쓰입니다."
   ]
  },
  {
   "cell_type": "code",
   "execution_count": 10,
   "metadata": {
    "id": "Betugj6orp11"
   },
   "outputs": [],
   "source": [
    "from datetime import datetime\n",
    "from pytz import timezone\n",
    "from datetime import timedelta"
   ]
  },
  {
   "cell_type": "code",
   "execution_count": 12,
   "metadata": {
    "id": "ssm6XTSnuKw4"
   },
   "outputs": [
    {
     "name": "stdout",
     "output_type": "stream",
     "text": [
      "2024-10-21 09:42:12.379680\n",
      "2024-10-21 00:42:12.379680+00:00\n",
      "2024-10-21 09:42:12.525326+09:00\n"
     ]
    }
   ],
   "source": [
    "print(datetime.now())\n",
    "print(datetime.now(timezone('UTC')))\n",
    "print(datetime.now(timezone('Asia/Seoul')))"
   ]
  },
  {
   "cell_type": "code",
   "execution_count": 13,
   "metadata": {
    "id": "bphemtAQum_m"
   },
   "outputs": [
    {
     "name": "stdout",
     "output_type": "stream",
     "text": [
      "2024-10-21 09:42:12.533768+09:00\n",
      "2024 10 21 9 42 12 533768\n",
      "2024-10-21 09:42:12.533768\n",
      "0\n"
     ]
    }
   ],
   "source": [
    "x = datetime.now(timezone('Asia/Seoul'))\n",
    "print(x)\n",
    "print(x.year, x.month, x.day, x.hour, x.minute, x.second, x.microsecond)\n",
    "print(x.date(), x.time())\n",
    "print(x.weekday()) # {0:월, 1:화, 2:수, 3:목, 4:금, 5:토, 6:일}"
   ]
  },
  {
   "cell_type": "code",
   "execution_count": 16,
   "metadata": {
    "id": "bcZA1mSxu2aJ"
   },
   "outputs": [
    {
     "data": {
      "text/plain": [
       "'2024-10-21'"
      ]
     },
     "execution_count": 16,
     "metadata": {},
     "output_type": "execute_result"
    }
   ],
   "source": [
    "x.strftime('%Y-%m-%d')"
   ]
  },
  {
   "cell_type": "code",
   "execution_count": 18,
   "metadata": {
    "id": "Hj4erb6vPY-v"
   },
   "outputs": [
    {
     "data": {
      "text/plain": [
       "'20241021'"
      ]
     },
     "execution_count": 18,
     "metadata": {},
     "output_type": "execute_result"
    }
   ],
   "source": [
    "x.strftime('%Y%m%d')"
   ]
  },
  {
   "cell_type": "code",
   "execution_count": 20,
   "metadata": {
    "id": "Bh06fp15PgOO"
   },
   "outputs": [
    {
     "data": {
      "text/plain": [
       "'2024/10'"
      ]
     },
     "execution_count": 20,
     "metadata": {},
     "output_type": "execute_result"
    }
   ],
   "source": [
    "x.strftime('%Y/%m')"
   ]
  },
  {
   "cell_type": "code",
   "execution_count": 22,
   "metadata": {
    "id": "I5RvuQJhwtYz"
   },
   "outputs": [
    {
     "data": {
      "text/plain": [
       "datetime.datetime(2023, 5, 1, 0, 0)"
      ]
     },
     "execution_count": 22,
     "metadata": {},
     "output_type": "execute_result"
    }
   ],
   "source": [
    "datetime.strptime('2023-05-01', '%Y-%m-%d')"
   ]
  },
  {
   "cell_type": "code",
   "execution_count": 24,
   "metadata": {
    "id": "IyU11xFjP6F6"
   },
   "outputs": [
    {
     "data": {
      "text/plain": [
       "datetime.datetime(2024, 10, 21, 9, 42, 12, 533768, tzinfo=<DstTzInfo 'Asia/Seoul' KST+9:00:00 STD>)"
      ]
     },
     "execution_count": 24,
     "metadata": {},
     "output_type": "execute_result"
    }
   ],
   "source": [
    "x"
   ]
  },
  {
   "cell_type": "code",
   "execution_count": 26,
   "metadata": {
    "id": "TntvdJP-xkU1"
   },
   "outputs": [
    {
     "data": {
      "text/plain": [
       "datetime.datetime(2024, 10, 14, 9, 42, 12, 533768, tzinfo=<DstTzInfo 'Asia/Seoul' KST+9:00:00 STD>)"
      ]
     },
     "execution_count": 26,
     "metadata": {},
     "output_type": "execute_result"
    }
   ],
   "source": [
    "x - timedelta(days=7)"
   ]
  },
  {
   "cell_type": "code",
   "execution_count": 28,
   "metadata": {
    "id": "_SKWDgUHyGem"
   },
   "outputs": [
    {
     "data": {
      "text/plain": [
       "'2024-11-20'"
      ]
     },
     "execution_count": 28,
     "metadata": {},
     "output_type": "execute_result"
    }
   ],
   "source": [
    "(x + timedelta(days=30)).strftime('%Y-%m-%d')"
   ]
  },
  {
   "cell_type": "code",
   "execution_count": 30,
   "metadata": {
    "id": "eryKYVgHyKW2"
   },
   "outputs": [
    {
     "data": {
      "text/plain": [
       "datetime.datetime(2024, 9, 21, 9, 42, 12, 533768, tzinfo=<DstTzInfo 'Asia/Seoul' KST+9:00:00 STD>)"
      ]
     },
     "execution_count": 30,
     "metadata": {},
     "output_type": "execute_result"
    }
   ],
   "source": [
    "from dateutil.relativedelta import relativedelta\n",
    "\n",
    "x - relativedelta(months=1)"
   ]
  },
  {
   "cell_type": "code",
   "execution_count": 32,
   "metadata": {
    "id": "VM17uj6jySab"
   },
   "outputs": [
    {
     "data": {
      "text/plain": [
       "datetime.datetime(2026, 10, 21, 9, 42, 12, 533768, tzinfo=<DstTzInfo 'Asia/Seoul' KST+9:00:00 STD>)"
      ]
     },
     "execution_count": 32,
     "metadata": {},
     "output_type": "execute_result"
    }
   ],
   "source": [
    "x + relativedelta(years=2)"
   ]
  },
  {
   "cell_type": "markdown",
   "metadata": {
    "id": "0NGGwmhdyWux"
   },
   "source": [
    "## `math`\n",
    "\n",
    "|함수|\t설명|\n",
    "|:--|:--|\n",
    "|math.pi|\t원주율|\n",
    "|math.e|\t자연상수|\n",
    "|abs()|\t절댓값(내장함수)|\n",
    "|round()|\t반올림(내장함수)|\n",
    "|math.ceil()|올림|\n",
    "|math.floor()|내림|\n",
    "|math.factorial()|\t팩토리얼|\n",
    "|math.pow()|\t제곱 연산|\n",
    "|math.sqrt()|\t제곱근 연산|"
   ]
  },
  {
   "cell_type": "code",
   "execution_count": 35,
   "metadata": {
    "id": "Iki6IR9TyT9V"
   },
   "outputs": [
    {
     "data": {
      "text/plain": [
       "3.141592653589793"
      ]
     },
     "execution_count": 35,
     "metadata": {},
     "output_type": "execute_result"
    }
   ],
   "source": [
    "import math\n",
    "\n",
    "math.pi"
   ]
  },
  {
   "cell_type": "code",
   "execution_count": 37,
   "metadata": {
    "id": "V-fCtEkFz5fR"
   },
   "outputs": [
    {
     "data": {
      "text/plain": [
       "2.718281828459045"
      ]
     },
     "execution_count": 37,
     "metadata": {},
     "output_type": "execute_result"
    }
   ],
   "source": [
    "math.e"
   ]
  },
  {
   "cell_type": "code",
   "execution_count": 39,
   "metadata": {
    "id": "GwKF_HLjz8F7"
   },
   "outputs": [
    {
     "data": {
      "text/plain": [
       "314"
      ]
     },
     "execution_count": 39,
     "metadata": {},
     "output_type": "execute_result"
    }
   ],
   "source": [
    "abs(-314)"
   ]
  },
  {
   "cell_type": "code",
   "execution_count": 41,
   "metadata": {
    "id": "BAo5aaCxz9n1"
   },
   "outputs": [
    {
     "data": {
      "text/plain": [
       "2.12"
      ]
     },
     "execution_count": 41,
     "metadata": {},
     "output_type": "execute_result"
    }
   ],
   "source": [
    "round(2.123, 2)"
   ]
  },
  {
   "cell_type": "code",
   "execution_count": 43,
   "metadata": {
    "id": "6jM6e9kmz_Hx"
   },
   "outputs": [
    {
     "data": {
      "text/plain": [
       "3"
      ]
     },
     "execution_count": 43,
     "metadata": {},
     "output_type": "execute_result"
    }
   ],
   "source": [
    "math.ceil(2.124)"
   ]
  },
  {
   "cell_type": "code",
   "execution_count": 45,
   "metadata": {
    "id": "Q0HGLkd80Air"
   },
   "outputs": [
    {
     "data": {
      "text/plain": [
       "2"
      ]
     },
     "execution_count": 45,
     "metadata": {},
     "output_type": "execute_result"
    }
   ],
   "source": [
    "math.floor(2.124)"
   ]
  },
  {
   "cell_type": "code",
   "execution_count": 47,
   "metadata": {
    "id": "YXPSgIuX0RWt"
   },
   "outputs": [
    {
     "data": {
      "text/plain": [
       "120"
      ]
     },
     "execution_count": 47,
     "metadata": {},
     "output_type": "execute_result"
    }
   ],
   "source": [
    "math.factorial(5)"
   ]
  },
  {
   "cell_type": "code",
   "execution_count": 49,
   "metadata": {
    "id": "z4qPj26Z0UNO"
   },
   "outputs": [
    {
     "data": {
      "text/plain": [
       "125.0"
      ]
     },
     "execution_count": 49,
     "metadata": {},
     "output_type": "execute_result"
    }
   ],
   "source": [
    "math.pow(5, 3)"
   ]
  },
  {
   "cell_type": "code",
   "execution_count": 51,
   "metadata": {
    "id": "VEqYOtEN0VEo"
   },
   "outputs": [
    {
     "data": {
      "text/plain": [
       "5.0"
      ]
     },
     "execution_count": 51,
     "metadata": {},
     "output_type": "execute_result"
    }
   ],
   "source": [
    "math.sqrt(25)"
   ]
  },
  {
   "cell_type": "markdown",
   "metadata": {
    "id": "9llHKwZU0l81"
   },
   "source": [
    "## `numpy`\n",
    "- 벡터 / 행렬 연산을 도와주는 라이브러리"
   ]
  },
  {
   "cell_type": "code",
   "execution_count": 54,
   "metadata": {
    "id": "NL8lY_bC0bjF"
   },
   "outputs": [],
   "source": [
    "import numpy as np"
   ]
  },
  {
   "cell_type": "code",
   "execution_count": 56,
   "metadata": {
    "id": "Vo4cF2R820ph"
   },
   "outputs": [
    {
     "ename": "NameError",
     "evalue": "name 'random' is not defined",
     "output_type": "error",
     "traceback": [
      "\u001b[1;31m---------------------------------------------------------------------------\u001b[0m",
      "\u001b[1;31mNameError\u001b[0m                                 Traceback (most recent call last)",
      "Cell \u001b[1;32mIn[56], line 1\u001b[0m\n\u001b[1;32m----> 1\u001b[0m ls \u001b[38;5;241m=\u001b[39m random\u001b[38;5;241m.\u001b[39msample([i \u001b[38;5;28;01mfor\u001b[39;00m i \u001b[38;5;129;01min\u001b[39;00m \u001b[38;5;28mrange\u001b[39m(\u001b[38;5;241m1000\u001b[39m)],\u001b[38;5;241m100\u001b[39m)\n",
      "\u001b[1;31mNameError\u001b[0m: name 'random' is not defined"
     ]
    }
   ],
   "source": [
    "ls = random.sample([i for i in range(1000)],100)"
   ]
  },
  {
   "cell_type": "code",
   "execution_count": 58,
   "metadata": {
    "id": "O1tmNfLz29WQ"
   },
   "outputs": [
    {
     "ename": "NameError",
     "evalue": "name 'ls' is not defined",
     "output_type": "error",
     "traceback": [
      "\u001b[1;31m---------------------------------------------------------------------------\u001b[0m",
      "\u001b[1;31mNameError\u001b[0m                                 Traceback (most recent call last)",
      "Cell \u001b[1;32mIn[58], line 1\u001b[0m\n\u001b[1;32m----> 1\u001b[0m \u001b[38;5;28mprint\u001b[39m(np\u001b[38;5;241m.\u001b[39mmean(ls))\n\u001b[0;32m      2\u001b[0m \u001b[38;5;28mprint\u001b[39m(np\u001b[38;5;241m.\u001b[39mvar(ls))\n\u001b[0;32m      3\u001b[0m \u001b[38;5;28mprint\u001b[39m(np\u001b[38;5;241m.\u001b[39mstd(ls))\n",
      "\u001b[1;31mNameError\u001b[0m: name 'ls' is not defined"
     ]
    }
   ],
   "source": [
    "print(np.mean(ls))\n",
    "print(np.var(ls))\n",
    "print(np.std(ls))\n",
    "print(np.sum(ls))"
   ]
  },
  {
   "cell_type": "markdown",
   "metadata": {
    "id": "S5NM9v7Z3yBV"
   },
   "source": [
    "## Counter"
   ]
  },
  {
   "cell_type": "code",
   "execution_count": 61,
   "metadata": {
    "id": "iZ7Cgf4t3tJR"
   },
   "outputs": [
    {
     "data": {
      "text/plain": [
       "Counter({'d': 4, 'b': 3, 'a': 2, 'c': 1})"
      ]
     },
     "execution_count": 61,
     "metadata": {},
     "output_type": "execute_result"
    }
   ],
   "source": [
    "from collections import Counter\n",
    "\n",
    "ls = ['a','a','b','b','b','c','d','d','d','d']\n",
    "Counter(ls)"
   ]
  },
  {
   "cell_type": "code",
   "execution_count": 63,
   "metadata": {
    "id": "xTh_yOAk4JgC"
   },
   "outputs": [
    {
     "name": "stdout",
     "output_type": "stream",
     "text": [
      "[('d', 4), ('b', 3), ('a', 2), ('c', 1)]\n",
      "[('d', 4)]\n",
      "[('d', 4), ('b', 3)]\n"
     ]
    }
   ],
   "source": [
    "count_dic = Counter(ls)\n",
    "print(count_dic.most_common())\n",
    "print(count_dic.most_common(1))\n",
    "print(count_dic.most_common(2))"
   ]
  },
  {
   "cell_type": "code",
   "execution_count": null,
   "metadata": {},
   "outputs": [],
   "source": []
  }
 ],
 "metadata": {
  "colab": {
   "provenance": []
  },
  "kernelspec": {
   "display_name": "Python 3 (ipykernel)",
   "language": "python",
   "name": "python3"
  },
  "language_info": {
   "codemirror_mode": {
    "name": "ipython",
    "version": 3
   },
   "file_extension": ".py",
   "mimetype": "text/x-python",
   "name": "python",
   "nbconvert_exporter": "python",
   "pygments_lexer": "ipython3",
   "version": "3.12.4"
  }
 },
 "nbformat": 4,
 "nbformat_minor": 4
}
